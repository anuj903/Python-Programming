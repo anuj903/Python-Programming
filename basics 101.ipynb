{
 "cells": [
  {
   "cell_type": "code",
   "execution_count": null,
   "id": "61826eb8-307f-4b67-bc6c-504f934cecbc",
   "metadata": {},
   "outputs": [],
   "source": [
    "# Author : Anuj Gaikwad\n",
    "# Date : 20/05/2024"
   ]
  },
  {
   "cell_type": "code",
   "execution_count": 7,
   "id": "498a2cbf-bde8-4622-bdf3-8c61c7c3af69",
   "metadata": {},
   "outputs": [
    {
     "data": {
      "image/png": "[encoded data removed]",
      "text/plain": [
       "<Figure size 640x480 with 1 Axes>"
      ]
     },
     "metadata": {},
     "output_type": "display_data"
    }
   ],
   "source": [
    "import matplotlib.pyplot as plt\n",
    "plt.plot([1,3,2,4],[1,2,3,4])\n",
    "plt.show()"
   ]
  },
  {
   "cell_type": "code",
   "execution_count": 1,
   "id": "5024edd2-77b8-4424-9c4f-30fab32aa8c1",
   "metadata": {},
   "outputs": [],
   "source": [
    "x = 20"
   ]
  },
  {
   "cell_type": "code",
   "execution_count": 2,
   "id": "2562c45a-260e-4add-aa9f-7815754b6fc1",
   "metadata": {},
   "outputs": [
    {
     "name": "stdout",
     "output_type": "stream",
     "text": [
      "20\n"
     ]
    }
   ],
   "source": [
    "print(x)"
   ]
  },
  {
   "cell_type": "code",
   "execution_count": 3,
   "id": "acc86c52-4f7b-4d6d-b2fa-4a0275c7ce3a",
   "metadata": {},
   "outputs": [],
   "source": [
    "x = 30"
   ]
  },
  {
   "cell_type": "code",
   "execution_count": 4,
   "id": "7908f95d-537f-4be8-9144-b8eec7e3e1b0",
   "metadata": {},
   "outputs": [
    {
     "name": "stdout",
     "output_type": "stream",
     "text": [
      "30\n"
     ]
    }
   ],
   "source": [
    "print(x)"
   ]
  },
  {
   "cell_type": "code",
   "execution_count": 5,
   "id": "5f34569c-2afa-4a7a-be6d-4545d8fd1ec5",
   "metadata": {},
   "outputs": [],
   "source": [
    "y = \"string\""
   ]
  },
  {
   "cell_type": "code",
   "execution_count": 6,
   "id": "848b6b81-acac-4da3-a258-24756f1a983d",
   "metadata": {},
   "outputs": [
    {
     "name": "stdout",
     "output_type": "stream",
     "text": [
      "string\n"
     ]
    }
   ],
   "source": [
    "print(y)"
   ]
  },
  {
   "cell_type": "code",
   "execution_count": 7,
   "id": "3a54454f-733d-40e9-8441-0fd58c53d0e9",
   "metadata": {},
   "outputs": [],
   "source": [
    "y = \"2ndString\""
   ]
  },
  {
   "cell_type": "code",
   "execution_count": 8,
   "id": "873991fe-5b22-4a96-bfad-acbe26b4f345",
   "metadata": {},
   "outputs": [
    {
     "name": "stdout",
     "output_type": "stream",
     "text": [
      "2ndString\n"
     ]
    }
   ],
   "source": [
    "print(y)"
   ]
  },
  {
   "cell_type": "code",
   "execution_count": 9,
   "id": "46da97c6-134c-4dd6-b3b2-025d70285c10",
   "metadata": {},
   "outputs": [],
   "source": [
    "#built in fuctions"
   ]
  },
  {
   "cell_type": "code",
   "execution_count": 10,
   "id": "76e49ba7-a677-4651-9ea6-b48d13a785bd",
   "metadata": {},
   "outputs": [],
   "source": [
    "x = [10,3,5,16,21,55,31,6,14]"
   ]
  },
  {
   "cell_type": "code",
   "execution_count": 11,
   "id": "533200c7-0eea-4741-83ff-e6c059e3e5d4",
   "metadata": {},
   "outputs": [
    {
     "data": {
      "text/plain": [
       "9"
      ]
     },
     "execution_count": 11,
     "metadata": {},
     "output_type": "execute_result"
    }
   ],
   "source": [
    "len(x)"
   ]
  },
  {
   "cell_type": "code",
   "execution_count": 12,
   "id": "9be1f282-06a8-4feb-8817-fcf804dcbcf7",
   "metadata": {},
   "outputs": [
    {
     "data": {
      "text/plain": [
       "3"
      ]
     },
     "execution_count": 12,
     "metadata": {},
     "output_type": "execute_result"
    }
   ],
   "source": [
    "min(x)"
   ]
  },
  {
   "cell_type": "code",
   "execution_count": 13,
   "id": "e3ce4ff1-0fad-4cd1-8702-aa4ed8840b96",
   "metadata": {},
   "outputs": [
    {
     "data": {
      "text/plain": [
       "55"
      ]
     },
     "execution_count": 13,
     "metadata": {},
     "output_type": "execute_result"
    }
   ],
   "source": [
    "max(x)"
   ]
  },
  {
   "cell_type": "code",
   "execution_count": 14,
   "id": "8342814f-cccd-4ca5-bfc5-31a67b0fd63b",
   "metadata": {},
   "outputs": [
    {
     "data": {
      "text/plain": [
       "161"
      ]
     },
     "execution_count": 14,
     "metadata": {},
     "output_type": "execute_result"
    }
   ],
   "source": [
    "sum(x)"
   ]
  },
  {
   "cell_type": "code",
   "execution_count": 16,
   "id": "e6f8caa5-dcb6-4734-aa0d-bf3d04628fb7",
   "metadata": {},
   "outputs": [
    {
     "data": {
      "text/plain": [
       "17.88888888888889"
      ]
     },
     "execution_count": 16,
     "metadata": {},
     "output_type": "execute_result"
    }
   ],
   "source": [
    "sum(x)/len(x)"
   ]
  },
  {
   "cell_type": "code",
   "execution_count": 18,
   "id": "551a3a97-3053-414a-8c71-867841c6d3a8",
   "metadata": {},
   "outputs": [],
   "source": [
    "#tuples"
   ]
  },
  {
   "cell_type": "code",
   "execution_count": 20,
   "id": "c5f15d3d-61dc-4216-8761-a46162f1ac28",
   "metadata": {},
   "outputs": [],
   "source": [
    "emp = ()"
   ]
  },
  {
   "cell_type": "code",
   "execution_count": 22,
   "id": "67527821-4544-4cbb-b8d5-9d323a691065",
   "metadata": {},
   "outputs": [
    {
     "name": "stdout",
     "output_type": "stream",
     "text": [
      "<class 'tuple'>\n"
     ]
    }
   ],
   "source": [
    "print(type(emp))"
   ]
  },
  {
   "cell_type": "code",
   "execution_count": 23,
   "id": "d0a41b2f-c537-46bb-bc63-a41d4471dcc4",
   "metadata": {},
   "outputs": [],
   "source": [
    "city = \"pune\","
   ]
  },
  {
   "cell_type": "code",
   "execution_count": 24,
   "id": "0522ab52-1706-4c7b-a5dc-40f94eda4ade",
   "metadata": {},
   "outputs": [
    {
     "data": {
      "text/plain": [
       "tuple"
      ]
     },
     "execution_count": 24,
     "metadata": {},
     "output_type": "execute_result"
    }
   ],
   "source": [
    "type(city)"
   ]
  },
  {
   "cell_type": "code",
   "execution_count": 25,
   "id": "968833ef-86a3-4324-a0ab-611528f8b00f",
   "metadata": {},
   "outputs": [],
   "source": [
    "city = (\"pune\",\"delhi\",\"banglore\")"
   ]
  },
  {
   "cell_type": "code",
   "execution_count": 26,
   "id": "f1c2b35a-98d9-4071-abc9-57db4486134e",
   "metadata": {},
   "outputs": [
    {
     "name": "stdout",
     "output_type": "stream",
     "text": [
      "('pune', 'delhi', 'banglore')\n"
     ]
    }
   ],
   "source": [
    "print(city)"
   ]
  },
  {
   "cell_type": "code",
   "execution_count": 27,
   "id": "d06c8a09-8dc2-47f5-9a28-6214daabc043",
   "metadata": {},
   "outputs": [],
   "source": [
    "list1 = [1,2,3,4]\n",
    "tuple1 = (1,2,3,4)"
   ]
  },
  {
   "cell_type": "code",
   "execution_count": 28,
   "id": "ac706425-c463-4def-a689-da5731be05d8",
   "metadata": {},
   "outputs": [],
   "source": [
    "list1.append(5)"
   ]
  },
  {
   "cell_type": "code",
   "execution_count": 29,
   "id": "2d2397a0-2777-4df9-af9f-b9f0c3ce9949",
   "metadata": {},
   "outputs": [
    {
     "name": "stdout",
     "output_type": "stream",
     "text": [
      "[1, 2, 3, 4, 5]\n"
     ]
    }
   ],
   "source": [
    "print(list1)"
   ]
  },
  {
   "cell_type": "code",
   "execution_count": 30,
   "id": "0ec3a9c2-7035-4010-818a-8ff2768dab9e",
   "metadata": {},
   "outputs": [
    {
     "ename": "AttributeError",
     "evalue": "'tuple' object has no attribute 'append'",
     "output_type": "error",
     "traceback": [
      "\u001b[1;31m---------------------------------------------------------------------------\u001b[0m",
      "\u001b[1;31mAttributeError\u001b[0m                            Traceback (most recent call last)",
      "Cell \u001b[1;32mIn[30], line 1\u001b[0m\n\u001b[1;32m----> 1\u001b[0m tuple1\u001b[38;5;241m.\u001b[39mappend(\u001b[38;5;241m5\u001b[39m)\n",
      "\u001b[1;31mAttributeError\u001b[0m: 'tuple' object has no attribute 'append'"
     ]
    }
   ],
   "source": [
    "tuple1.append(5)"
   ]
  },
  {
   "cell_type": "code",
   "execution_count": 32,
   "id": "2c6a2de1-a028-4e63-b4e7-f65b3d18db52",
   "metadata": {},
   "outputs": [
    {
     "name": "stdout",
     "output_type": "stream",
     "text": [
      "('pune', 'delhi', 'banglore')\n"
     ]
    }
   ],
   "source": [
    "print(city)"
   ]
  },
  {
   "cell_type": "code",
   "execution_count": 33,
   "id": "6c72dd22-e354-43bb-9c16-ad1ebeede2c3",
   "metadata": {},
   "outputs": [
    {
     "data": {
      "text/plain": [
       "'delhi'"
      ]
     },
     "execution_count": 33,
     "metadata": {},
     "output_type": "execute_result"
    }
   ],
   "source": [
    "city[1]"
   ]
  },
  {
   "cell_type": "code",
   "execution_count": 34,
   "id": "ec34ba65-ded1-4784-a878-fc455c20cb78",
   "metadata": {},
   "outputs": [
    {
     "data": {
      "text/plain": [
       "'banglore'"
      ]
     },
     "execution_count": 34,
     "metadata": {},
     "output_type": "execute_result"
    }
   ],
   "source": [
    "city[-1]"
   ]
  },
  {
   "cell_type": "code",
   "execution_count": 35,
   "id": "ad1fd943-94cc-4996-a355-b2ac420f3647",
   "metadata": {},
   "outputs": [],
   "source": [
    "#concatenation"
   ]
  },
  {
   "cell_type": "code",
   "execution_count": 36,
   "id": "23964941-25ec-4208-bb8a-b9dc2ed53a90",
   "metadata": {},
   "outputs": [
    {
     "name": "stdout",
     "output_type": "stream",
     "text": [
      "('pune', 'delhi', 'banglore')\n"
     ]
    }
   ],
   "source": [
    "print(city)"
   ]
  },
  {
   "cell_type": "code",
   "execution_count": 37,
   "id": "a4a829dd-d559-4ce7-ab5b-3ff45284319e",
   "metadata": {},
   "outputs": [],
   "source": [
    "num = (1,2,3)"
   ]
  },
  {
   "cell_type": "code",
   "execution_count": 38,
   "id": "fe84fc4f-ca5a-487b-8328-64f2e233c810",
   "metadata": {},
   "outputs": [
    {
     "name": "stdout",
     "output_type": "stream",
     "text": [
      "('pune', 'delhi', 'banglore', 1, 2, 3)\n"
     ]
    }
   ],
   "source": [
    "print(city+num)"
   ]
  },
  {
   "cell_type": "code",
   "execution_count": 39,
   "id": "d13e98f5-76ce-405d-9ce1-fe90decbf61c",
   "metadata": {},
   "outputs": [],
   "source": [
    "#nesting"
   ]
  },
  {
   "cell_type": "code",
   "execution_count": 40,
   "id": "c9ee7037-2e64-408c-9ffd-63a96bc728b6",
   "metadata": {},
   "outputs": [],
   "source": [
    "nest = (city,num)"
   ]
  },
  {
   "cell_type": "code",
   "execution_count": 41,
   "id": "8b2ef2bd-e45e-4061-b245-71f61c964312",
   "metadata": {},
   "outputs": [
    {
     "name": "stdout",
     "output_type": "stream",
     "text": [
      "(('pune', 'delhi', 'banglore'), (1, 2, 3))\n"
     ]
    }
   ],
   "source": [
    "print(nest)"
   ]
  },
  {
   "cell_type": "code",
   "execution_count": 42,
   "id": "ee5d7e4a-5f29-43ad-a6c4-d8c192f15129",
   "metadata": {},
   "outputs": [],
   "source": [
    "#repetition"
   ]
  },
  {
   "cell_type": "code",
   "execution_count": 43,
   "id": "17e17831-75f2-4594-8d58-bce1fb603a86",
   "metadata": {},
   "outputs": [],
   "source": [
    "rep = (\"python\",)*5"
   ]
  },
  {
   "cell_type": "code",
   "execution_count": 44,
   "id": "2ebaf2b3-0b68-4c77-8d9b-4611d8de787f",
   "metadata": {},
   "outputs": [
    {
     "name": "stdout",
     "output_type": "stream",
     "text": [
      "('python', 'python', 'python', 'python', 'python')\n"
     ]
    }
   ],
   "source": [
    "print(rep)"
   ]
  },
  {
   "cell_type": "code",
   "execution_count": 45,
   "id": "5178cdf4-40a5-4009-b0a3-52ab0a6640e8",
   "metadata": {},
   "outputs": [
    {
     "data": {
      "text/plain": [
       "('python', 'python', 'python', 'python', 'python')"
      ]
     },
     "execution_count": 45,
     "metadata": {},
     "output_type": "execute_result"
    }
   ],
   "source": [
    "rep"
   ]
  },
  {
   "cell_type": "code",
   "execution_count": 46,
   "id": "72251a61-1215-4e89-910f-43615bc4add1",
   "metadata": {},
   "outputs": [],
   "source": [
    "#slicing"
   ]
  },
  {
   "cell_type": "code",
   "execution_count": 47,
   "id": "949e1f78-924f-49aa-bf9c-1cbbdab7de7a",
   "metadata": {},
   "outputs": [
    {
     "data": {
      "text/plain": [
       "(1, 2, 3)"
      ]
     },
     "execution_count": 47,
     "metadata": {},
     "output_type": "execute_result"
    }
   ],
   "source": [
    "num"
   ]
  },
  {
   "cell_type": "code",
   "execution_count": 50,
   "id": "0d52a18e-4334-41e0-b9c6-c3335ae32489",
   "metadata": {},
   "outputs": [
    {
     "data": {
      "text/plain": [
       "(2, 3)"
      ]
     },
     "execution_count": 50,
     "metadata": {},
     "output_type": "execute_result"
    }
   ],
   "source": [
    "num[1:]"
   ]
  },
  {
   "cell_type": "code",
   "execution_count": 51,
   "id": "dbabd010-9b80-403f-a70d-bd1ce7875322",
   "metadata": {},
   "outputs": [
    {
     "data": {
      "text/plain": [
       "(3, 2, 1)"
      ]
     },
     "execution_count": 51,
     "metadata": {},
     "output_type": "execute_result"
    }
   ],
   "source": [
    "num[::-1]"
   ]
  },
  {
   "cell_type": "code",
   "execution_count": 53,
   "id": "57d83a3f-cb90-4522-a090-f9bf75dffea5",
   "metadata": {},
   "outputs": [],
   "source": [
    "#unpacking"
   ]
  },
  {
   "cell_type": "code",
   "execution_count": 54,
   "id": "6da83308-45ca-4b03-861c-8dd43e0169e7",
   "metadata": {},
   "outputs": [
    {
     "data": {
      "text/plain": [
       "('s', 'i', 'm', 'p', 'l', 'i', 'l', 'e', 'a', 'r', 'n')"
      ]
     },
     "execution_count": 54,
     "metadata": {},
     "output_type": "execute_result"
    }
   ],
   "source": [
    "tuple(\"simplilearn\")"
   ]
  },
  {
   "cell_type": "code",
   "execution_count": 55,
   "id": "04b6366f-542a-476c-9745-ed115c94aad1",
   "metadata": {},
   "outputs": [
    {
     "data": {
      "text/plain": [
       "(1, 2, 3)"
      ]
     },
     "execution_count": 55,
     "metadata": {},
     "output_type": "execute_result"
    }
   ],
   "source": [
    "num"
   ]
  },
  {
   "cell_type": "code",
   "execution_count": 56,
   "id": "b5d36665-b0f2-4575-88bd-62bd43e75bc9",
   "metadata": {},
   "outputs": [],
   "source": [
    "a,b,c = num"
   ]
  },
  {
   "cell_type": "code",
   "execution_count": 58,
   "id": "bb71d2d7-4adc-4a07-aa46-d2bd943658b0",
   "metadata": {},
   "outputs": [
    {
     "name": "stdout",
     "output_type": "stream",
     "text": [
      "1 2 3\n"
     ]
    }
   ],
   "source": [
    "print(a,b,c)"
   ]
  },
  {
   "cell_type": "code",
   "execution_count": 59,
   "id": "fb855a8f-6a70-453f-90b9-585e3f8f8ce7",
   "metadata": {},
   "outputs": [],
   "source": [
    "a,*b,c = num"
   ]
  },
  {
   "cell_type": "code",
   "execution_count": 60,
   "id": "2fe88ad2-3927-4953-8a25-7b51072c7cd2",
   "metadata": {},
   "outputs": [
    {
     "name": "stdout",
     "output_type": "stream",
     "text": [
      "1 [2] 3\n"
     ]
    }
   ],
   "source": [
    "print(a,b,c)"
   ]
  },
  {
   "cell_type": "code",
   "execution_count": 61,
   "id": "030623fd-c0a9-4e4c-a816-bc2cf5bbc022",
   "metadata": {},
   "outputs": [],
   "source": [
    "#Deleting tuple"
   ]
  },
  {
   "cell_type": "code",
   "execution_count": 62,
   "id": "775290bc-449f-491c-8aba-510aa1be230c",
   "metadata": {},
   "outputs": [],
   "source": [
    "tuple2 = (1,2,3,4,5)"
   ]
  },
  {
   "cell_type": "code",
   "execution_count": 63,
   "id": "9e3cb1ed-b959-4944-bd27-162baf23f85d",
   "metadata": {},
   "outputs": [
    {
     "name": "stdout",
     "output_type": "stream",
     "text": [
      "(1, 2, 3, 4, 5)\n"
     ]
    }
   ],
   "source": [
    "print(tuple2)"
   ]
  },
  {
   "cell_type": "code",
   "execution_count": 64,
   "id": "103c6c4a-a432-4b2b-9999-ace88aa08e42",
   "metadata": {},
   "outputs": [],
   "source": [
    "del tuple2"
   ]
  },
  {
   "cell_type": "code",
   "execution_count": 65,
   "id": "a30e45e0-77b2-4920-8943-ffc0bdde3dc4",
   "metadata": {},
   "outputs": [
    {
     "ename": "NameError",
     "evalue": "name 'tuple2' is not defined",
     "output_type": "error",
     "traceback": [
      "\u001b[1;31m---------------------------------------------------------------------------\u001b[0m",
      "\u001b[1;31mNameError\u001b[0m                                 Traceback (most recent call last)",
      "Cell \u001b[1;32mIn[65], line 1\u001b[0m\n\u001b[1;32m----> 1\u001b[0m \u001b[38;5;28mprint\u001b[39m(tuple2)\n",
      "\u001b[1;31mNameError\u001b[0m: name 'tuple2' is not defined"
     ]
    }
   ],
   "source": [
    "print(tuple2)"
   ]
  },
  {
   "cell_type": "code",
   "execution_count": 66,
   "id": "168e849a-992f-4cbd-9ecf-4bfbe56f2efb",
   "metadata": {},
   "outputs": [],
   "source": [
    "#built in functions tuple"
   ]
  },
  {
   "cell_type": "code",
   "execution_count": 67,
   "id": "eb9ec748-4c22-491b-9d00-b3f4f7519e34",
   "metadata": {},
   "outputs": [],
   "source": [
    "num1 = (3,2,5,2,2,2,6,5,8)\n"
   ]
  },
  {
   "cell_type": "code",
   "execution_count": 68,
   "id": "7816b514-fffc-4520-9af0-6af1e4c8d034",
   "metadata": {},
   "outputs": [
    {
     "data": {
      "text/plain": [
       "4"
      ]
     },
     "execution_count": 68,
     "metadata": {},
     "output_type": "execute_result"
    }
   ],
   "source": [
    "num1.count(2)"
   ]
  },
  {
   "cell_type": "code",
   "execution_count": 69,
   "id": "d8b388f3-694b-4e77-bae9-b8106f5ad015",
   "metadata": {},
   "outputs": [
    {
     "data": {
      "text/plain": [
       "35"
      ]
     },
     "execution_count": 69,
     "metadata": {},
     "output_type": "execute_result"
    }
   ],
   "source": [
    "sum(num1)"
   ]
  },
  {
   "cell_type": "code",
   "execution_count": 71,
   "id": "9e789089-b74f-47c9-ab53-75672c13b1f3",
   "metadata": {},
   "outputs": [
    {
     "data": {
      "text/plain": [
       "9"
      ]
     },
     "execution_count": 71,
     "metadata": {},
     "output_type": "execute_result"
    }
   ],
   "source": [
    "len(num1)"
   ]
  },
  {
   "cell_type": "code",
   "execution_count": 72,
   "id": "17a7d907-7091-4ba7-a33a-2a5a9dcbd14f",
   "metadata": {},
   "outputs": [
    {
     "data": {
      "text/plain": [
       "8"
      ]
     },
     "execution_count": 72,
     "metadata": {},
     "output_type": "execute_result"
    }
   ],
   "source": [
    "max(num1)"
   ]
  },
  {
   "cell_type": "code",
   "execution_count": 73,
   "id": "f4731cc6-5a06-4c92-8b88-c9f025117741",
   "metadata": {},
   "outputs": [
    {
     "data": {
      "text/plain": [
       "2"
      ]
     },
     "execution_count": 73,
     "metadata": {},
     "output_type": "execute_result"
    }
   ],
   "source": [
    "min(num1)"
   ]
  },
  {
   "cell_type": "code",
   "execution_count": 74,
   "id": "8f2e8671-5f8b-4a2a-bb0a-d2b466bce32e",
   "metadata": {},
   "outputs": [],
   "source": [
    "#converting list to tuple"
   ]
  },
  {
   "cell_type": "code",
   "execution_count": 75,
   "id": "ef75e372-c7dc-40e8-9d02-8572221ceacf",
   "metadata": {},
   "outputs": [],
   "source": [
    "lst = [1,2,3,4]"
   ]
  },
  {
   "cell_type": "code",
   "execution_count": 76,
   "id": "04fdbbda-0040-4cde-824c-1a5ecbc2b330",
   "metadata": {},
   "outputs": [],
   "source": [
    "tpl = tuple(lst)"
   ]
  },
  {
   "cell_type": "code",
   "execution_count": 77,
   "id": "6dd246b4-2dea-4d6e-b25b-92f4e83904c4",
   "metadata": {},
   "outputs": [
    {
     "name": "stdout",
     "output_type": "stream",
     "text": [
      "(1, 2, 3, 4)\n"
     ]
    }
   ],
   "source": [
    "print(tpl)"
   ]
  },
  {
   "cell_type": "code",
   "execution_count": 78,
   "id": "767e9115-c50e-470c-b507-878b11f26960",
   "metadata": {},
   "outputs": [],
   "source": [
    "#nesting tuples in list"
   ]
  },
  {
   "cell_type": "code",
   "execution_count": 79,
   "id": "ed3e03c4-e53b-453e-9317-1e060bfb12a2",
   "metadata": {},
   "outputs": [],
   "source": [
    "lst = [(1,2,3),(4,5,6)]"
   ]
  },
  {
   "cell_type": "code",
   "execution_count": 80,
   "id": "78ccb6b1-bb9b-4b9c-a7bd-d61171d25293",
   "metadata": {},
   "outputs": [
    {
     "data": {
      "text/plain": [
       "[(1, 2, 3), (4, 5, 6)]"
      ]
     },
     "execution_count": 80,
     "metadata": {},
     "output_type": "execute_result"
    }
   ],
   "source": [
    "lst"
   ]
  },
  {
   "cell_type": "code",
   "execution_count": 81,
   "id": "f958bb0d-4b87-47d0-9894-9c8c08961bed",
   "metadata": {},
   "outputs": [],
   "source": [
    "lst.append((\"tuple\",\"inside\",\"list\"))"
   ]
  },
  {
   "cell_type": "code",
   "execution_count": 82,
   "id": "b282e1e1-1512-4ebb-9d76-8b17d3ff8e18",
   "metadata": {},
   "outputs": [
    {
     "data": {
      "text/plain": [
       "[(1, 2, 3), (4, 5, 6), ('tuple', 'inside', 'list')]"
      ]
     },
     "execution_count": 82,
     "metadata": {},
     "output_type": "execute_result"
    }
   ],
   "source": [
    "lst"
   ]
  },
  {
   "cell_type": "code",
   "execution_count": 83,
   "id": "a80df4ef-5a95-48c0-b080-6fd90187f863",
   "metadata": {},
   "outputs": [],
   "source": [
    "#nesting lists within tuples"
   ]
  },
  {
   "cell_type": "code",
   "execution_count": 84,
   "id": "94dc0393-0d29-42e9-ab7f-f3cc7b4d0d6d",
   "metadata": {},
   "outputs": [],
   "source": [
    "tpl = (['a','b','c'],['d','e','f'])"
   ]
  },
  {
   "cell_type": "code",
   "execution_count": 85,
   "id": "9a8a0da2-df13-4594-9d02-a55865e8e642",
   "metadata": {},
   "outputs": [
    {
     "data": {
      "text/plain": [
       "(['a', 'b', 'c'], ['d', 'e', 'f'])"
      ]
     },
     "execution_count": 85,
     "metadata": {},
     "output_type": "execute_result"
    }
   ],
   "source": [
    "tpl"
   ]
  },
  {
   "cell_type": "code",
   "execution_count": 86,
   "id": "f0507d73-146c-4dc3-83fa-29b12f36c9bf",
   "metadata": {},
   "outputs": [],
   "source": [
    "tpl[0].append('g')"
   ]
  },
  {
   "cell_type": "code",
   "execution_count": 87,
   "id": "fbb5823f-82a0-48bb-959b-bc17d9951ce6",
   "metadata": {},
   "outputs": [
    {
     "data": {
      "text/plain": [
       "(['a', 'b', 'c', 'g'], ['d', 'e', 'f'])"
      ]
     },
     "execution_count": 87,
     "metadata": {},
     "output_type": "execute_result"
    }
   ],
   "source": [
    "tpl"
   ]
  },
  {
   "cell_type": "code",
   "execution_count": 88,
   "id": "90e80b9c-e50b-41d5-abfc-397555ea1a44",
   "metadata": {},
   "outputs": [
    {
     "ename": "AttributeError",
     "evalue": "'tuple' object has no attribute 'append'",
     "output_type": "error",
     "traceback": [
      "\u001b[1;31m---------------------------------------------------------------------------\u001b[0m",
      "\u001b[1;31mAttributeError\u001b[0m                            Traceback (most recent call last)",
      "Cell \u001b[1;32mIn[88], line 1\u001b[0m\n\u001b[1;32m----> 1\u001b[0m tpl\u001b[38;5;241m.\u001b[39mappend(\u001b[38;5;124m'\u001b[39m\u001b[38;5;124mx\u001b[39m\u001b[38;5;124m'\u001b[39m,\u001b[38;5;124m'\u001b[39m\u001b[38;5;124my\u001b[39m\u001b[38;5;124m'\u001b[39m,\u001b[38;5;124m'\u001b[39m\u001b[38;5;124mz\u001b[39m\u001b[38;5;124m'\u001b[39m)\n",
      "\u001b[1;31mAttributeError\u001b[0m: 'tuple' object has no attribute 'append'"
     ]
    }
   ],
   "source": [
    "tpl.append('x','y','z')"
   ]
  },
  {
   "cell_type": "code",
   "execution_count": 89,
   "id": "5cab6360-cb78-4485-ab4b-7c96d65f30b0",
   "metadata": {},
   "outputs": [],
   "source": [
    "#Stings"
   ]
  },
  {
   "cell_type": "code",
   "execution_count": 90,
   "id": "0924e0ab-0e00-4828-98eb-f20ee91f910b",
   "metadata": {},
   "outputs": [],
   "source": [
    "stg = \"javatpoint\""
   ]
  },
  {
   "cell_type": "code",
   "execution_count": 91,
   "id": "f2636c9f-37b3-4231-9c47-5bad3d8cd2e5",
   "metadata": {},
   "outputs": [
    {
     "data": {
      "text/plain": [
       "'javatpoint'"
      ]
     },
     "execution_count": 91,
     "metadata": {},
     "output_type": "execute_result"
    }
   ],
   "source": [
    "stg"
   ]
  },
  {
   "cell_type": "code",
   "execution_count": 92,
   "id": "8685a677-8e95-4c68-b6a2-9bb022599647",
   "metadata": {},
   "outputs": [],
   "source": [
    "stg = \"tim's birthday\""
   ]
  },
  {
   "cell_type": "code",
   "execution_count": 93,
   "id": "2c9baab5-2c5e-4e8a-b7cf-bf59f4bd9118",
   "metadata": {},
   "outputs": [
    {
     "data": {
      "text/plain": [
       "\"tim's birthday\""
      ]
     },
     "execution_count": 93,
     "metadata": {},
     "output_type": "execute_result"
    }
   ],
   "source": [
    "stg"
   ]
  },
  {
   "cell_type": "code",
   "execution_count": 96,
   "id": "c6f8ebc8-8ef8-4a2d-b487-87710ac7d7f7",
   "metadata": {},
   "outputs": [],
   "source": [
    "stg = 'tim said, \"I\\'m busy\"'"
   ]
  },
  {
   "cell_type": "code",
   "execution_count": 97,
   "id": "8bff0df9-b8f6-4b93-b66a-903dbaede8b4",
   "metadata": {},
   "outputs": [
    {
     "data": {
      "text/plain": [
       "'tim said, \"I\\'m busy\"'"
      ]
     },
     "execution_count": 97,
     "metadata": {},
     "output_type": "execute_result"
    }
   ],
   "source": [
    "stg"
   ]
  },
  {
   "cell_type": "code",
   "execution_count": 100,
   "id": "65b947b4-d5b7-410c-9beb-a9fd4092248a",
   "metadata": {},
   "outputs": [],
   "source": [
    "stg = \"\"\"hey there!\n",
    "welcome to home\"\"\""
   ]
  },
  {
   "cell_type": "code",
   "execution_count": 101,
   "id": "25f33b4b-8309-4101-a4df-c04be8360a14",
   "metadata": {},
   "outputs": [
    {
     "data": {
      "text/plain": [
       "'hey there!\\nwelcome to home'"
      ]
     },
     "execution_count": 101,
     "metadata": {},
     "output_type": "execute_result"
    }
   ],
   "source": [
    "stg"
   ]
  },
  {
   "cell_type": "code",
   "execution_count": 102,
   "id": "e0dea034-2628-4b29-a420-cdaf0c2ae24e",
   "metadata": {},
   "outputs": [],
   "source": [
    "stg = \"hello there\""
   ]
  },
  {
   "cell_type": "code",
   "execution_count": 103,
   "id": "4fd2a630-00cf-41c1-b047-2f5e7bc96898",
   "metadata": {},
   "outputs": [
    {
     "data": {
      "text/plain": [
       "11"
      ]
     },
     "execution_count": 103,
     "metadata": {},
     "output_type": "execute_result"
    }
   ],
   "source": [
    "len(stg)"
   ]
  },
  {
   "cell_type": "code",
   "execution_count": 104,
   "id": "e496f531-8cf3-4c39-ba9d-ceb44fdc9202",
   "metadata": {},
   "outputs": [
    {
     "data": {
      "text/plain": [
       "'o'"
      ]
     },
     "execution_count": 104,
     "metadata": {},
     "output_type": "execute_result"
    }
   ],
   "source": [
    "stg[4]"
   ]
  },
  {
   "cell_type": "code",
   "execution_count": 105,
   "id": "e69d2388-6eec-472f-9000-3a3f8bcc460e",
   "metadata": {},
   "outputs": [
    {
     "name": "stdout",
     "output_type": "stream",
     "text": [
      "h\n",
      "e\n",
      "l\n",
      "l\n",
      "o\n",
      " \n",
      "t\n",
      "h\n",
      "e\n",
      "r\n",
      "e\n"
     ]
    }
   ],
   "source": [
    "for i in stg:\n",
    "    print(i)"
   ]
  },
  {
   "cell_type": "code",
   "execution_count": 106,
   "id": "5ff37e49-812c-425f-a96b-03723251522f",
   "metadata": {},
   "outputs": [
    {
     "name": "stdout",
     "output_type": "stream",
     "text": [
      "hello\n"
     ]
    }
   ],
   "source": [
    "print(stg[0:5])"
   ]
  },
  {
   "cell_type": "code",
   "execution_count": 107,
   "id": "6a67aba6-db2b-4f7d-abb6-38483327d8a7",
   "metadata": {},
   "outputs": [
    {
     "name": "stdout",
     "output_type": "stream",
     "text": [
      "hell there\n"
     ]
    }
   ],
   "source": [
    "print(stg[:4],stg[6:])"
   ]
  },
  {
   "cell_type": "code",
   "execution_count": 108,
   "id": "ceb0ea66-4475-43b8-9e31-7ab485bbe42c",
   "metadata": {},
   "outputs": [],
   "source": [
    "#built in methods strings"
   ]
  },
  {
   "cell_type": "code",
   "execution_count": 110,
   "id": "3c565719-8645-499d-b176-29c63bd06ed7",
   "metadata": {},
   "outputs": [
    {
     "data": {
      "text/plain": [
       "'HELLO THERE'"
      ]
     },
     "execution_count": 110,
     "metadata": {},
     "output_type": "execute_result"
    }
   ],
   "source": [
    "stg.upper()"
   ]
  },
  {
   "cell_type": "code",
   "execution_count": 111,
   "id": "85878934-502d-4f31-aca7-255461bb7273",
   "metadata": {},
   "outputs": [
    {
     "data": {
      "text/plain": [
       "'hello there'"
      ]
     },
     "execution_count": 111,
     "metadata": {},
     "output_type": "execute_result"
    }
   ],
   "source": [
    "stg.lower()"
   ]
  },
  {
   "cell_type": "code",
   "execution_count": 116,
   "id": "b7b6327b-17f2-47f8-8689-540355f9024f",
   "metadata": {},
   "outputs": [
    {
     "data": {
      "text/plain": [
       "0"
      ]
     },
     "execution_count": 116,
     "metadata": {},
     "output_type": "execute_result"
    }
   ],
   "source": [
    "stg.find('h')"
   ]
  },
  {
   "cell_type": "code",
   "execution_count": 117,
   "id": "0a98f9bd-5cdd-456f-b2ca-c587bb3c6355",
   "metadata": {},
   "outputs": [
    {
     "data": {
      "text/plain": [
       "0"
      ]
     },
     "execution_count": 117,
     "metadata": {},
     "output_type": "execute_result"
    }
   ],
   "source": [
    "stg.index('h')"
   ]
  },
  {
   "cell_type": "code",
   "execution_count": 118,
   "id": "8158544c-c9c5-4625-bd7f-74e019cc92bf",
   "metadata": {},
   "outputs": [
    {
     "data": {
      "text/plain": [
       "['hello', 'there']"
      ]
     },
     "execution_count": 118,
     "metadata": {},
     "output_type": "execute_result"
    }
   ],
   "source": [
    "stg.split(\" \")"
   ]
  },
  {
   "cell_type": "code",
   "execution_count": 119,
   "id": "9c568075-dd2a-4da5-919e-2e27972f38b8",
   "metadata": {},
   "outputs": [],
   "source": [
    "x = stg.split(\" \")"
   ]
  },
  {
   "cell_type": "code",
   "execution_count": 120,
   "id": "37b495b0-c890-40f1-a42d-e52ec0f0414b",
   "metadata": {},
   "outputs": [
    {
     "data": {
      "text/plain": [
       "['hello', 'there']"
      ]
     },
     "execution_count": 120,
     "metadata": {},
     "output_type": "execute_result"
    }
   ],
   "source": [
    "x"
   ]
  },
  {
   "cell_type": "code",
   "execution_count": 121,
   "id": "c9721c33-d0da-4eac-81c8-c3ee8192ebbf",
   "metadata": {},
   "outputs": [
    {
     "data": {
      "text/plain": [
       "'whos there'"
      ]
     },
     "execution_count": 121,
     "metadata": {},
     "output_type": "execute_result"
    }
   ],
   "source": [
    "stg.replace(\"hello\",\"whos\")"
   ]
  },
  {
   "cell_type": "code",
   "execution_count": 123,
   "id": "12a8da04-d3e3-4538-b4b5-d4a0e3a7b77f",
   "metadata": {},
   "outputs": [
    {
     "data": {
      "text/plain": [
       "('hel', 'lo ', 'there')"
      ]
     },
     "execution_count": 123,
     "metadata": {},
     "output_type": "execute_result"
    }
   ],
   "source": [
    "stg.rpartition(\"lo \")"
   ]
  },
  {
   "cell_type": "code",
   "execution_count": 124,
   "id": "280b9664-4693-4324-b4cf-7056c8c790c9",
   "metadata": {},
   "outputs": [],
   "source": [
    "#String concat"
   ]
  },
  {
   "cell_type": "code",
   "execution_count": 125,
   "id": "7010091c-89c2-456a-a6c7-7d8c3df53df6",
   "metadata": {},
   "outputs": [],
   "source": [
    "stg1 = \"good\""
   ]
  },
  {
   "cell_type": "code",
   "execution_count": 126,
   "id": "96eb9096-d56b-41d2-9bb0-83fda5ea3b93",
   "metadata": {},
   "outputs": [],
   "source": [
    "stg2 = \"morning\""
   ]
  },
  {
   "cell_type": "code",
   "execution_count": 127,
   "id": "26396389-6cf0-44cc-be90-9d67f398a91f",
   "metadata": {},
   "outputs": [],
   "source": [
    "stg = stg1+\" \"+stg2"
   ]
  },
  {
   "cell_type": "code",
   "execution_count": 128,
   "id": "c949e466-700f-4179-890f-124351abb7cb",
   "metadata": {},
   "outputs": [
    {
     "data": {
      "text/plain": [
       "'good morning'"
      ]
     },
     "execution_count": 128,
     "metadata": {},
     "output_type": "execute_result"
    }
   ],
   "source": [
    "stg"
   ]
  },
  {
   "cell_type": "code",
   "execution_count": 129,
   "id": "2818585e-9210-44bc-a79f-67708f947bab",
   "metadata": {},
   "outputs": [],
   "source": [
    "stg1 = \"hey\"\n",
    "stg2 = \"there\"\n",
    "stg3 = \"all\""
   ]
  },
  {
   "cell_type": "code",
   "execution_count": 130,
   "id": "c5e56a3f-de4e-468f-9d79-c98d5bd14191",
   "metadata": {},
   "outputs": [],
   "source": [
    "stg = \"{} {}, {}!\".format(stg1,stg2,stg3)"
   ]
  },
  {
   "cell_type": "code",
   "execution_count": 131,
   "id": "8a5fecea-e41d-4112-93d4-ded15faccef7",
   "metadata": {},
   "outputs": [
    {
     "data": {
      "text/plain": [
       "'hey there, all!'"
      ]
     },
     "execution_count": 131,
     "metadata": {},
     "output_type": "execute_result"
    }
   ],
   "source": [
    "stg"
   ]
  },
  {
   "cell_type": "code",
   "execution_count": 132,
   "id": "d13cc73a-d226-4a34-983a-89a8abb2e744",
   "metadata": {},
   "outputs": [],
   "source": [
    "#dict"
   ]
  },
  {
   "cell_type": "code",
   "execution_count": 133,
   "id": "5304ad31-19c7-43d9-b866-51fb6a23d6db",
   "metadata": {},
   "outputs": [],
   "source": [
    "d1 = {}"
   ]
  },
  {
   "cell_type": "code",
   "execution_count": 134,
   "id": "a9667900-dbd5-45cf-85fe-3a59ecb0dd59",
   "metadata": {},
   "outputs": [
    {
     "data": {
      "text/plain": [
       "{}"
      ]
     },
     "execution_count": 134,
     "metadata": {},
     "output_type": "execute_result"
    }
   ],
   "source": [
    "d1"
   ]
  },
  {
   "cell_type": "code",
   "execution_count": 135,
   "id": "6f1bf7a2-83c4-4245-8026-04cf24bb8565",
   "metadata": {},
   "outputs": [],
   "source": [
    "d2 = {1:\"pune\",2:\"mumbai\",3:\"nagpur\",4:\"Thane\"}"
   ]
  },
  {
   "cell_type": "code",
   "execution_count": 136,
   "id": "33b69bea-d0b2-4b4f-b3c2-29e8ff1bbbb6",
   "metadata": {},
   "outputs": [
    {
     "data": {
      "text/plain": [
       "{1: 'pune', 2: 'mumbai', 3: 'nagpur', 4: 'Thane'}"
      ]
     },
     "execution_count": 136,
     "metadata": {},
     "output_type": "execute_result"
    }
   ],
   "source": [
    "d2"
   ]
  },
  {
   "cell_type": "code",
   "execution_count": 137,
   "id": "3bfcd486-e425-467b-8d47-3bd637ee8e6e",
   "metadata": {},
   "outputs": [],
   "source": [
    "d3={\"name\":\"sam\",\"age\":22,\"profession\":\"student\"}"
   ]
  },
  {
   "cell_type": "code",
   "execution_count": 138,
   "id": "0ae8f248-1fba-42d2-bcd2-9248bc46b535",
   "metadata": {},
   "outputs": [
    {
     "data": {
      "text/plain": [
       "{'name': 'sam', 'age': 22, 'profession': 'student'}"
      ]
     },
     "execution_count": 138,
     "metadata": {},
     "output_type": "execute_result"
    }
   ],
   "source": [
    "d3"
   ]
  },
  {
   "cell_type": "code",
   "execution_count": 139,
   "id": "11060971-7405-4b04-94fb-a9872f91c78c",
   "metadata": {},
   "outputs": [],
   "source": [
    "d4 = dict({1:\"pune\",2:\"mumbai\",3:\"nagpur\",4:\"Thane\"})"
   ]
  },
  {
   "cell_type": "code",
   "execution_count": 140,
   "id": "8152aa4c-fcc8-4ed8-8c74-f2eadcf6bdae",
   "metadata": {},
   "outputs": [
    {
     "data": {
      "text/plain": [
       "{1: 'pune', 2: 'mumbai', 3: 'nagpur', 4: 'Thane'}"
      ]
     },
     "execution_count": 140,
     "metadata": {},
     "output_type": "execute_result"
    }
   ],
   "source": [
    "d4"
   ]
  },
  {
   "cell_type": "code",
   "execution_count": 141,
   "id": "97b78b5e-5c74-4a0f-86da-7a0d12af3e04",
   "metadata": {},
   "outputs": [],
   "source": [
    "d5 = dict([(1,\"welcome\"),(2,\"to\"),(3,\"pizza\"),(4,\"mania\")])"
   ]
  },
  {
   "cell_type": "code",
   "execution_count": 142,
   "id": "510ec05d-fa34-4d10-aef5-da98fd04c1b9",
   "metadata": {},
   "outputs": [
    {
     "data": {
      "text/plain": [
       "{1: 'welcome', 2: 'to', 3: 'pizza', 4: 'mania'}"
      ]
     },
     "execution_count": 142,
     "metadata": {},
     "output_type": "execute_result"
    }
   ],
   "source": [
    "d5"
   ]
  },
  {
   "cell_type": "code",
   "execution_count": 143,
   "id": "fef5e790-f75e-4c12-ba7b-e310de81742f",
   "metadata": {},
   "outputs": [],
   "source": [
    "d6 = {\"name\":{\"first\":\"sam\",\"last\":\"wilson\"},\"age\":22,\"profession\":\"student\"}"
   ]
  },
  {
   "cell_type": "code",
   "execution_count": 144,
   "id": "12060bb2-27dd-46aa-8b1a-2520788754e6",
   "metadata": {},
   "outputs": [
    {
     "data": {
      "text/plain": [
       "{'name': {'first': 'sam', 'last': 'wilson'},\n",
       " 'age': 22,\n",
       " 'profession': 'student'}"
      ]
     },
     "execution_count": 144,
     "metadata": {},
     "output_type": "execute_result"
    }
   ],
   "source": [
    "d6"
   ]
  },
  {
   "cell_type": "code",
   "execution_count": 145,
   "id": "3f0e16b3-b634-4537-b5e0-fa6b52e63e74",
   "metadata": {},
   "outputs": [],
   "source": [
    "#Adding Elements"
   ]
  },
  {
   "cell_type": "code",
   "execution_count": 146,
   "id": "1f988fc6-6ea5-483e-a4b4-627a488799fe",
   "metadata": {},
   "outputs": [],
   "source": [
    "d = {}"
   ]
  },
  {
   "cell_type": "code",
   "execution_count": 147,
   "id": "bc237950-c5a3-4b43-b3e7-414dc3cf3e6b",
   "metadata": {},
   "outputs": [],
   "source": [
    "d[0] = \"Welcome\""
   ]
  },
  {
   "cell_type": "code",
   "execution_count": 148,
   "id": "f35a2d21-1140-4ec2-a455-1ad18bd37d94",
   "metadata": {},
   "outputs": [
    {
     "data": {
      "text/plain": [
       "{0: 'Welcome'}"
      ]
     },
     "execution_count": 148,
     "metadata": {},
     "output_type": "execute_result"
    }
   ],
   "source": [
    "d"
   ]
  },
  {
   "cell_type": "code",
   "execution_count": 149,
   "id": "0fe6a091-86f5-475d-b129-8445a651a8a5",
   "metadata": {},
   "outputs": [],
   "source": [
    "d[1] = \"to\""
   ]
  },
  {
   "cell_type": "code",
   "execution_count": 150,
   "id": "08f2010d-20c5-4178-8d48-7c91780b5816",
   "metadata": {},
   "outputs": [
    {
     "data": {
      "text/plain": [
       "{0: 'Welcome', 1: 'to'}"
      ]
     },
     "execution_count": 150,
     "metadata": {},
     "output_type": "execute_result"
    }
   ],
   "source": [
    "d"
   ]
  },
  {
   "cell_type": "code",
   "execution_count": 151,
   "id": "c9a2747e-772e-4184-ac25-7cc9d5a73b70",
   "metadata": {},
   "outputs": [],
   "source": [
    "d[2] = \"Wrestlemania\""
   ]
  },
  {
   "cell_type": "code",
   "execution_count": 152,
   "id": "abefede2-0844-4504-aedf-d90fddf46815",
   "metadata": {},
   "outputs": [
    {
     "data": {
      "text/plain": [
       "{0: 'Welcome', 1: 'to', 2: 'Wrestlemania'}"
      ]
     },
     "execution_count": 152,
     "metadata": {},
     "output_type": "execute_result"
    }
   ],
   "source": [
    "d"
   ]
  },
  {
   "cell_type": "code",
   "execution_count": 153,
   "id": "0cd20a93-0f0b-4eed-8697-2945a9b1a61b",
   "metadata": {},
   "outputs": [],
   "source": [
    "d[\"name\"] = \"sam\""
   ]
  },
  {
   "cell_type": "code",
   "execution_count": 154,
   "id": "7eba4da3-1b1c-46cc-8582-c281b219104b",
   "metadata": {},
   "outputs": [
    {
     "data": {
      "text/plain": [
       "{0: 'Welcome', 1: 'to', 2: 'Wrestlemania', 'name': 'sam'}"
      ]
     },
     "execution_count": 154,
     "metadata": {},
     "output_type": "execute_result"
    }
   ],
   "source": [
    "d"
   ]
  },
  {
   "cell_type": "code",
   "execution_count": 155,
   "id": "a89e1d46-e42e-44d6-9e69-cb14dd8b2c3e",
   "metadata": {},
   "outputs": [],
   "source": [
    "d[\"name\"] = {\"first\":\"sam\", \"last\":\"Wilson\"}"
   ]
  },
  {
   "cell_type": "code",
   "execution_count": 156,
   "id": "fdb26197-6077-433e-b920-5d4c31806abe",
   "metadata": {},
   "outputs": [
    {
     "data": {
      "text/plain": [
       "{'first': 'sam', 'last': 'Wilson'}"
      ]
     },
     "execution_count": 156,
     "metadata": {},
     "output_type": "execute_result"
    }
   ],
   "source": [
    "d[\"name\"]"
   ]
  },
  {
   "cell_type": "code",
   "execution_count": 157,
   "id": "c5e0f016-1cf7-43c6-9749-3d855653f350",
   "metadata": {},
   "outputs": [
    {
     "data": {
      "text/plain": [
       "'to'"
      ]
     },
     "execution_count": 157,
     "metadata": {},
     "output_type": "execute_result"
    }
   ],
   "source": [
    "d.get(1)"
   ]
  },
  {
   "cell_type": "code",
   "execution_count": 158,
   "id": "57eef018-80b2-4134-aa93-dd01ca8fedbf",
   "metadata": {},
   "outputs": [],
   "source": [
    "#deleting Elements"
   ]
  },
  {
   "cell_type": "code",
   "execution_count": 164,
   "id": "1ed5882d-a8b7-4ab0-93e6-fa9a96a2d5d6",
   "metadata": {},
   "outputs": [
    {
     "data": {
      "text/plain": [
       "{1: 'to', 2: 'Wrestlemania'}"
      ]
     },
     "execution_count": 164,
     "metadata": {},
     "output_type": "execute_result"
    }
   ],
   "source": [
    "d"
   ]
  },
  {
   "cell_type": "code",
   "execution_count": 160,
   "id": "1a5f4441-90e4-4249-a05a-935791bffe48",
   "metadata": {},
   "outputs": [
    {
     "data": {
      "text/plain": [
       "'Welcome'"
      ]
     },
     "execution_count": 160,
     "metadata": {},
     "output_type": "execute_result"
    }
   ],
   "source": [
    "d.pop(0)"
   ]
  },
  {
   "cell_type": "code",
   "execution_count": 161,
   "id": "50f15c30-3b80-474a-8548-a8391a6ac7ba",
   "metadata": {},
   "outputs": [
    {
     "data": {
      "text/plain": [
       "{1: 'to', 2: 'Wrestlemania', 'name': {'first': 'sam', 'last': 'Wilson'}}"
      ]
     },
     "execution_count": 161,
     "metadata": {},
     "output_type": "execute_result"
    }
   ],
   "source": [
    "d"
   ]
  },
  {
   "cell_type": "code",
   "execution_count": 162,
   "id": "5514b954-9943-474e-9dda-1afe719d597b",
   "metadata": {},
   "outputs": [
    {
     "data": {
      "text/plain": [
       "('name', {'first': 'sam', 'last': 'Wilson'})"
      ]
     },
     "execution_count": 162,
     "metadata": {},
     "output_type": "execute_result"
    }
   ],
   "source": [
    "d.popitem()"
   ]
  },
  {
   "cell_type": "code",
   "execution_count": 163,
   "id": "e7a5d358-1bf4-4565-8d60-15663757fb9c",
   "metadata": {},
   "outputs": [
    {
     "data": {
      "text/plain": [
       "{1: 'to', 2: 'Wrestlemania'}"
      ]
     },
     "execution_count": 163,
     "metadata": {},
     "output_type": "execute_result"
    }
   ],
   "source": [
    "d"
   ]
  },
  {
   "cell_type": "code",
   "execution_count": 165,
   "id": "98a64143-0a53-4045-9bf2-fb758a309120",
   "metadata": {},
   "outputs": [
    {
     "data": {
      "text/plain": [
       "(2, 'Wrestlemania')"
      ]
     },
     "execution_count": 165,
     "metadata": {},
     "output_type": "execute_result"
    }
   ],
   "source": [
    "d.popitem()"
   ]
  },
  {
   "cell_type": "code",
   "execution_count": 166,
   "id": "2b836d50-e2ed-48a9-9025-f31e3ac911bb",
   "metadata": {},
   "outputs": [
    {
     "data": {
      "text/plain": [
       "{1: 'to'}"
      ]
     },
     "execution_count": 166,
     "metadata": {},
     "output_type": "execute_result"
    }
   ],
   "source": [
    "d"
   ]
  },
  {
   "cell_type": "code",
   "execution_count": 167,
   "id": "de925c3d-7ddc-45cb-bf3d-12c256c762d9",
   "metadata": {},
   "outputs": [
    {
     "data": {
      "text/plain": [
       "(1, 'to')"
      ]
     },
     "execution_count": 167,
     "metadata": {},
     "output_type": "execute_result"
    }
   ],
   "source": [
    "d.popitem()"
   ]
  },
  {
   "cell_type": "code",
   "execution_count": 168,
   "id": "7c8a2126-762e-4a7f-83bf-c4b76d0658aa",
   "metadata": {},
   "outputs": [
    {
     "data": {
      "text/plain": [
       "{}"
      ]
     },
     "execution_count": 168,
     "metadata": {},
     "output_type": "execute_result"
    }
   ],
   "source": [
    "d"
   ]
  },
  {
   "cell_type": "code",
   "execution_count": 171,
   "id": "692429f9-fd8e-420c-bae1-2399c08fbc59",
   "metadata": {},
   "outputs": [],
   "source": [
    "d = {0: 'Welcome',1: 'to', 2: 'Wrestlemania', 'name': {'first': 'sam', 'last': 'Wilson'}}"
   ]
  },
  {
   "cell_type": "code",
   "execution_count": 172,
   "id": "fbbda616-267b-4f5c-9c94-ffdd1d10e257",
   "metadata": {},
   "outputs": [
    {
     "data": {
      "text/plain": [
       "{0: 'Welcome',\n",
       " 1: 'to',\n",
       " 2: 'Wrestlemania',\n",
       " 'name': {'first': 'sam', 'last': 'Wilson'}}"
      ]
     },
     "execution_count": 172,
     "metadata": {},
     "output_type": "execute_result"
    }
   ],
   "source": [
    "d"
   ]
  },
  {
   "cell_type": "code",
   "execution_count": 173,
   "id": "272e206f-1080-402d-9c13-01e9cd7bd221",
   "metadata": {},
   "outputs": [],
   "source": [
    "# built in Functions"
   ]
  },
  {
   "cell_type": "code",
   "execution_count": 174,
   "id": "619dd840-2634-4547-93d8-621a748e5f84",
   "metadata": {},
   "outputs": [
    {
     "data": {
      "text/plain": [
       "dict_values(['Welcome', 'to', 'Wrestlemania', {'first': 'sam', 'last': 'Wilson'}])"
      ]
     },
     "execution_count": 174,
     "metadata": {},
     "output_type": "execute_result"
    }
   ],
   "source": [
    "d.values()"
   ]
  },
  {
   "cell_type": "code",
   "execution_count": 176,
   "id": "fbceaf9f-ab2d-42b1-9b18-543b635b0cfa",
   "metadata": {},
   "outputs": [
    {
     "data": {
      "text/plain": [
       "{'a': 1, 'e': 1, 'd': 1, 'c': 1, 'b': 1}"
      ]
     },
     "execution_count": 176,
     "metadata": {},
     "output_type": "execute_result"
    }
   ],
   "source": [
    "keys = {'a','b','c','d','e'}\n",
    "value = 1\n",
    "dict.fromkeys(keys,value)"
   ]
  },
  {
   "cell_type": "code",
   "execution_count": 177,
   "id": "c13b0c3b-8f12-4374-ad68-c9d7b40c95f6",
   "metadata": {},
   "outputs": [],
   "source": [
    "d.clear()"
   ]
  },
  {
   "cell_type": "code",
   "execution_count": 178,
   "id": "112fcb9e-d21b-4916-9e52-6788e54d5e5a",
   "metadata": {},
   "outputs": [
    {
     "data": {
      "text/plain": [
       "{}"
      ]
     },
     "execution_count": 178,
     "metadata": {},
     "output_type": "execute_result"
    }
   ],
   "source": [
    "d"
   ]
  },
  {
   "cell_type": "code",
   "execution_count": 179,
   "id": "c5a31f53-0475-4ea9-8e3a-5067fe191c72",
   "metadata": {},
   "outputs": [],
   "source": [
    "#sets"
   ]
  },
  {
   "cell_type": "code",
   "execution_count": 180,
   "id": "d9fcdfcf-0a19-451e-a50c-b47d91a3eeb0",
   "metadata": {},
   "outputs": [],
   "source": [
    "s1 = set([1,2,3,4])"
   ]
  },
  {
   "cell_type": "code",
   "execution_count": 181,
   "id": "13b4b2af-be4d-46c0-8755-e5481c03feb4",
   "metadata": {},
   "outputs": [
    {
     "data": {
      "text/plain": [
       "{1, 2, 3, 4}"
      ]
     },
     "execution_count": 181,
     "metadata": {},
     "output_type": "execute_result"
    }
   ],
   "source": [
    "s1"
   ]
  },
  {
   "cell_type": "code",
   "execution_count": 183,
   "id": "49332f44-60b4-4d06-a904-d63f26387c73",
   "metadata": {},
   "outputs": [
    {
     "data": {
      "text/plain": [
       "set"
      ]
     },
     "execution_count": 183,
     "metadata": {},
     "output_type": "execute_result"
    }
   ],
   "source": [
    "type(s1)"
   ]
  },
  {
   "cell_type": "code",
   "execution_count": 185,
   "id": "cebd39dd-46b3-4bd0-9543-11293a75da16",
   "metadata": {},
   "outputs": [],
   "source": [
    "s1.add(5)"
   ]
  },
  {
   "cell_type": "code",
   "execution_count": 186,
   "id": "8247f2e1-23c6-4db1-8303-0cffeb036249",
   "metadata": {},
   "outputs": [
    {
     "data": {
      "text/plain": [
       "{1, 2, 3, 4, 5}"
      ]
     },
     "execution_count": 186,
     "metadata": {},
     "output_type": "execute_result"
    }
   ],
   "source": [
    "s1"
   ]
  },
  {
   "cell_type": "code",
   "execution_count": 187,
   "id": "dd694cf0-d105-4b25-8762-c9ca0f5297b9",
   "metadata": {},
   "outputs": [],
   "source": [
    "fzs = frozenset([1,2,3,4])"
   ]
  },
  {
   "cell_type": "code",
   "execution_count": 188,
   "id": "fb573cd6-4032-41c5-9648-e108994a2170",
   "metadata": {},
   "outputs": [
    {
     "data": {
      "text/plain": [
       "frozenset({1, 2, 3, 4})"
      ]
     },
     "execution_count": 188,
     "metadata": {},
     "output_type": "execute_result"
    }
   ],
   "source": [
    "fzs"
   ]
  },
  {
   "cell_type": "code",
   "execution_count": 189,
   "id": "44b97741-1dd5-4511-b1d1-83e8ea7ea36a",
   "metadata": {},
   "outputs": [
    {
     "ename": "AttributeError",
     "evalue": "'frozenset' object has no attribute 'add'",
     "output_type": "error",
     "traceback": [
      "\u001b[1;31m---------------------------------------------------------------------------\u001b[0m",
      "\u001b[1;31mAttributeError\u001b[0m                            Traceback (most recent call last)",
      "Cell \u001b[1;32mIn[189], line 1\u001b[0m\n\u001b[1;32m----> 1\u001b[0m fzs\u001b[38;5;241m.\u001b[39madd(\u001b[38;5;241m5\u001b[39m)\n",
      "\u001b[1;31mAttributeError\u001b[0m: 'frozenset' object has no attribute 'add'"
     ]
    }
   ],
   "source": [
    "fzs.add(5)"
   ]
  },
  {
   "cell_type": "code",
   "execution_count": 190,
   "id": "192d06ae-b139-4dcf-b32c-1a4708f21c7e",
   "metadata": {},
   "outputs": [],
   "source": [
    "s2 = set([1,2,3,4])\n",
    "s3 = set([3,4,5,6])"
   ]
  },
  {
   "cell_type": "code",
   "execution_count": 191,
   "id": "9bb4914b-b38a-4951-9092-59ad10ccb1e6",
   "metadata": {},
   "outputs": [
    {
     "data": {
      "text/plain": [
       "{1, 2, 3, 4, 5, 6}"
      ]
     },
     "execution_count": 191,
     "metadata": {},
     "output_type": "execute_result"
    }
   ],
   "source": [
    "s2.union(s3)"
   ]
  },
  {
   "cell_type": "code",
   "execution_count": 192,
   "id": "1f9f2d68-53c2-4030-8a0d-697c9b6ed38b",
   "metadata": {},
   "outputs": [
    {
     "data": {
      "text/plain": [
       "{1, 2}"
      ]
     },
     "execution_count": 192,
     "metadata": {},
     "output_type": "execute_result"
    }
   ],
   "source": [
    "s2.difference(s3)"
   ]
  },
  {
   "cell_type": "code",
   "execution_count": 193,
   "id": "46273966-52f9-4372-927f-391c578fecb2",
   "metadata": {},
   "outputs": [
    {
     "data": {
      "text/plain": [
       "{5, 6}"
      ]
     },
     "execution_count": 193,
     "metadata": {},
     "output_type": "execute_result"
    }
   ],
   "source": [
    "s3.difference(s2)"
   ]
  },
  {
   "cell_type": "code",
   "execution_count": 195,
   "id": "65e46f6d-f9f7-491a-b364-ddc34c29571d",
   "metadata": {},
   "outputs": [],
   "source": [
    "# if else Statements"
   ]
  },
  {
   "cell_type": "code",
   "execution_count": 198,
   "id": "9360d33e-298d-4a57-9a72-190c0d2727e4",
   "metadata": {},
   "outputs": [
    {
     "name": "stdout",
     "output_type": "stream",
     "text": [
      "this is not if body\n"
     ]
    }
   ],
   "source": [
    "a = 20\n",
    "if a>50:\n",
    "    print(\"this is if body\")\n",
    "print(\"this is not if body\")"
   ]
  },
  {
   "cell_type": "code",
   "execution_count": 199,
   "id": "09faa708-541a-4be9-a75a-27d1a2aaf375",
   "metadata": {},
   "outputs": [
    {
     "name": "stdout",
     "output_type": "stream",
     "text": [
      "this is if body\n",
      "this is not if body\n"
     ]
    }
   ],
   "source": [
    "a = 51\n",
    "if a>50:\n",
    "    print(\"this is if body\")\n",
    "print(\"this is not if body\")"
   ]
  },
  {
   "cell_type": "code",
   "execution_count": 200,
   "id": "840c5152-82da-4153-9383-16786bb61399",
   "metadata": {},
   "outputs": [],
   "source": [
    "#if Else Statement"
   ]
  },
  {
   "cell_type": "code",
   "execution_count": 204,
   "id": "ca457e2a-6ce9-4ba9-8ccc-f7cac19c11bc",
   "metadata": {},
   "outputs": [
    {
     "name": "stdout",
     "output_type": "stream",
     "text": [
      "i is an odd number\n"
     ]
    }
   ],
   "source": [
    "i = 5\n",
    "if i%2 == 0:\n",
    "    print(\"i is an even number\")\n",
    "else:\n",
    "    print(\"i is an odd number\")"
   ]
  },
  {
   "cell_type": "code",
   "execution_count": 205,
   "id": "e5a4b6cd-e6d4-4bd5-9f8d-c99e7db47e99",
   "metadata": {},
   "outputs": [],
   "source": [
    "#nested IF statement"
   ]
  },
  {
   "cell_type": "code",
   "execution_count": 207,
   "id": "8003cfa4-919f-45a7-ba4f-6b9e5107373b",
   "metadata": {},
   "outputs": [
    {
     "name": "stdout",
     "output_type": "stream",
     "text": [
      "c is an odd number less than 25\n"
     ]
    }
   ],
   "source": [
    "c = 21\n",
    "if c<25:\n",
    "    if c%2 == 0:\n",
    "        print(\"c is even number less than 25\")\n",
    "    else:\n",
    "        print(\"c is an odd number less than 25\")\n",
    "else:\n",
    "    print(\"c is greater than 25\")\n",
    "    "
   ]
  },
  {
   "cell_type": "code",
   "execution_count": 1,
   "id": "7d176add-a130-468e-8195-2091a799f0d8",
   "metadata": {},
   "outputs": [
    {
     "data": {
      "text/plain": [
       "(1, 2, 3, 1, 2, 3)"
      ]
     },
     "execution_count": 1,
     "metadata": {},
     "output_type": "execute_result"
    }
   ],
   "source": [
    "tuple1 = (1,2,3)\n",
    "tuple3 = tuple1 * 2\n",
    "tuple3"
   ]
  },
  {
   "cell_type": "code",
   "execution_count": 2,
   "id": "db04ca2d-de76-4645-8889-12b7e1498804",
   "metadata": {},
   "outputs": [],
   "source": [
    "tupl=([7,5],\"xyz\",2,4)"
   ]
  },
  {
   "cell_type": "code",
   "execution_count": 3,
   "id": "ab1f434c-6418-4be3-92c0-3389d7950f70",
   "metadata": {},
   "outputs": [],
   "source": [
    "tupl[0][1]=1"
   ]
  },
  {
   "cell_type": "code",
   "execution_count": 4,
   "id": "1528e0c7-c5b8-4f35-b5a1-eda2fc496e25",
   "metadata": {},
   "outputs": [
    {
     "name": "stdout",
     "output_type": "stream",
     "text": [
      "([7, 1], 'xyz', 2, 4)\n"
     ]
    }
   ],
   "source": [
    "print(tupl)"
   ]
  },
  {
   "cell_type": "code",
   "execution_count": 5,
   "id": "48fea796-967b-4509-9131-fed1b0f111a0",
   "metadata": {},
   "outputs": [
    {
     "name": "stdout",
     "output_type": "stream",
     "text": [
      "str1\n"
     ]
    }
   ],
   "source": [
    "str1=\"7/5\" \n",
    "print(\"str1\")"
   ]
  },
  {
   "cell_type": "code",
   "execution_count": 8,
   "id": "282e339f-6f90-4f93-a092-e1c48d34ba76",
   "metadata": {},
   "outputs": [
    {
     "data": {
      "text/plain": [
       "True"
      ]
     },
     "execution_count": 8,
     "metadata": {},
     "output_type": "execute_result"
    }
   ],
   "source": [
    "s1 = \"hello\"\n",
    "s2 = \"hell\"\n",
    "s1.__contains__(s2)"
   ]
  },
  {
   "cell_type": "code",
   "execution_count": 9,
   "id": "e598c586-82a4-447c-897a-fe36afe2abe4",
   "metadata": {},
   "outputs": [
    {
     "name": "stdout",
     "output_type": "stream",
     "text": [
      "3\n"
     ]
    }
   ],
   "source": [
    "dict1={\"a\":1,\"b\":2,\"c\":3}\n",
    "print(len(dict1))"
   ]
  },
  {
   "cell_type": "code",
   "execution_count": 11,
   "id": "1ea32adc-c525-4e3c-8df1-ac14bb234f78",
   "metadata": {},
   "outputs": [
    {
     "name": "stdout",
     "output_type": "stream",
     "text": [
      "0\n",
      "1\n",
      "2\n",
      "3\n"
     ]
    }
   ],
   "source": [
    "x = 'pqrs' \n",
    "for i in range(len(x)): \n",
    "    print(i)"
   ]
  },
  {
   "cell_type": "code",
   "execution_count": 13,
   "id": "c8f158a9-33fc-46a2-91fd-73bbe926dd2c",
   "metadata": {},
   "outputs": [
    {
     "name": "stdout",
     "output_type": "stream",
     "text": [
      "pqrs\n"
     ]
    }
   ],
   "source": [
    "x = 'pqrs' \n",
    "for i in range(len(x)): \n",
    "    x[i].upper() \n",
    "print (x)"
   ]
  },
  {
   "cell_type": "code",
   "execution_count": 2,
   "id": "894f728e-7683-4b3a-9e5f-5ce0c8c3d46f",
   "metadata": {},
   "outputs": [
    {
     "name": "stdout",
     "output_type": "stream",
     "text": [
      "2\n",
      "4\n"
     ]
    }
   ],
   "source": [
    "i = 2 \n",
    "while True: \n",
    "    if i%3 == 0: \n",
    "        break \n",
    "    print(i) \n",
    "    i += 2"
   ]
  },
  {
   "cell_type": "code",
   "execution_count": 3,
   "id": "0f15805a-2f77-4628-b338-205b0bd57320",
   "metadata": {},
   "outputs": [
    {
     "data": {
      "text/plain": [
       "[1, 2, 3, 4]"
      ]
     },
     "execution_count": 3,
     "metadata": {},
     "output_type": "execute_result"
    }
   ],
   "source": [
    "l1 = [1,2,3,4,5]\n",
    "l1[:-1]"
   ]
  },
  {
   "cell_type": "code",
   "execution_count": 4,
   "id": "48ec949f-6050-4717-808f-bdeb47548a02",
   "metadata": {},
   "outputs": [
    {
     "name": "stdout",
     "output_type": "stream",
     "text": [
      "['john', 'arya', 'simon', 8]\n"
     ]
    }
   ],
   "source": [
    "list1=[\"john\",\"arya\",\"simon\"] \n",
    "list1.insert(5,8) \n",
    "print(list1)"
   ]
  },
  {
   "cell_type": "code",
   "execution_count": 5,
   "id": "71d71ae2-d60f-46e2-a7a9-58b486343078",
   "metadata": {},
   "outputs": [
    {
     "name": "stdout",
     "output_type": "stream",
     "text": [
      "Hello World!\n",
      "Hello World!\n"
     ]
    }
   ],
   "source": [
    "def sayHello(): \n",
    "    print('Hello World!') \n",
    "    \n",
    "sayHello() \n",
    "sayHello()"
   ]
  },
  {
   "cell_type": "code",
   "execution_count": 8,
   "id": "75b98cbb-4f09-4839-8ff6-29980d514739",
   "metadata": {},
   "outputs": [
    {
     "name": "stdout",
     "output_type": "stream",
     "text": [
      "[1 2 3]\n"
     ]
    }
   ],
   "source": [
    "import numpy as np \n",
    "a = np.array([1,2,3])\n",
    "print(a)"
   ]
  },
  {
   "cell_type": "code",
   "execution_count": null,
   "id": "56da2f7f-6432-4797-a370-46a0c3f8fc5f",
   "metadata": {},
   "outputs": [],
   "source": []
  }
 ],
 "metadata": {
  "kernelspec": {
   "display_name": "Python 3 (ipykernel)",
   "language": "python",
   "name": "python3"
  },
  "language_info": {
   "codemirror_mode": {
    "name": "ipython",
    "version": 3
   },
   "file_extension": ".py",
   "mimetype": "text/x-python",
   "name": "python",
   "nbconvert_exporter": "python",
   "pygments_lexer": "ipython3",
   "version": "3.11.7"
  }
 },
 "nbformat": 4,
 "nbformat_minor": 5
}
