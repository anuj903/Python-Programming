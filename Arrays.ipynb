{
 "cells": [
  {
   "cell_type": "markdown",
   "id": "407cad90-13db-4626-ac20-7aabfd9a7175",
   "metadata": {},
   "source": [
    "# Arrays in Python"
   ]
  },
  {
   "cell_type": "code",
   "execution_count": 2,
   "id": "6e879fa3-8b9e-4049-b2c1-971a8d6ef6f7",
   "metadata": {},
   "outputs": [],
   "source": [
    "# Author : Anuj Gaikwad\n",
    "# Date : 21/05/2024\n",
    "\n",
    "# Array is container that holds multiple values of the \n",
    "# same data type\n",
    "# var = Array(Type code, [elements])"
   ]
  },
  {
   "cell_type": "code",
   "execution_count": 5,
   "id": "323da786-5154-4199-9609-12ec3b061571",
   "metadata": {},
   "outputs": [
    {
     "name": "stdout",
     "output_type": "stream",
     "text": [
      "array('i', [1, 2, 3, 4, 5])\n"
     ]
    }
   ],
   "source": [
    "from array import *\n",
    "\n",
    "arr = array('i' ,[1,2,3,4,5])\n",
    "print(arr)"
   ]
  },
  {
   "cell_type": "code",
   "execution_count": 6,
   "id": "bda69aa7-948a-4ca3-8508-8e89ea6147dd",
   "metadata": {},
   "outputs": [
    {
     "name": "stdout",
     "output_type": "stream",
     "text": [
      "(1813662317392, 5)\n"
     ]
    }
   ],
   "source": [
    "print(arr.buffer_info())"
   ]
  },
  {
   "cell_type": "code",
   "execution_count": 7,
   "id": "c7980799-ac83-4196-bac1-41a553df4894",
   "metadata": {},
   "outputs": [
    {
     "name": "stdout",
     "output_type": "stream",
     "text": [
      "3\n"
     ]
    }
   ],
   "source": [
    "print(arr[2])"
   ]
  },
  {
   "cell_type": "code",
   "execution_count": 8,
   "id": "81e6a1a4-6e31-486f-961d-4bb6c9d75191",
   "metadata": {},
   "outputs": [
    {
     "name": "stdout",
     "output_type": "stream",
     "text": [
      "1\n",
      "2\n",
      "3\n",
      "4\n",
      "5\n"
     ]
    }
   ],
   "source": [
    "for i in arr:\n",
    "    print(i)"
   ]
  },
  {
   "cell_type": "code",
   "execution_count": 10,
   "id": "41de4467-b849-43af-80b1-c51d0a4e6008",
   "metadata": {},
   "outputs": [
    {
     "name": "stdout",
     "output_type": "stream",
     "text": [
      "0 1\n",
      "1 2\n",
      "2 3\n",
      "3 4\n",
      "4 5\n"
     ]
    }
   ],
   "source": [
    "for pnt in range(5):\n",
    "    print(pnt,arr[pnt])"
   ]
  },
  {
   "cell_type": "code",
   "execution_count": 11,
   "id": "3eafdf03-83e5-4d25-859d-a3af008eb2bb",
   "metadata": {},
   "outputs": [
    {
     "name": "stdout",
     "output_type": "stream",
     "text": [
      "0 1\n",
      "1 2\n",
      "2 3\n",
      "3 4\n"
     ]
    }
   ],
   "source": [
    "for pnt in range(4):\n",
    "    print(pnt,arr[pnt])"
   ]
  },
  {
   "cell_type": "code",
   "execution_count": 12,
   "id": "242ae32a-2b71-4dd3-9939-4e84e8aca790",
   "metadata": {},
   "outputs": [
    {
     "name": "stdout",
     "output_type": "stream",
     "text": [
      "1 2\n",
      "2 3\n",
      "3 4\n"
     ]
    }
   ],
   "source": [
    "for pnt in range(1,4):\n",
    "    print(pnt,arr[pnt])"
   ]
  },
  {
   "cell_type": "code",
   "execution_count": 15,
   "id": "5ba18893-bc4d-4e22-8d02-ebbf0723ab98",
   "metadata": {},
   "outputs": [
    {
     "name": "stdout",
     "output_type": "stream",
     "text": [
      "array('i', [5, 4, 3, 2, 1])\n"
     ]
    }
   ],
   "source": [
    "arr.reverse()\n",
    "print(arr)"
   ]
  },
  {
   "cell_type": "code",
   "execution_count": 17,
   "id": "4ba58ade-2270-4067-b44a-82d8fa2dc3b2",
   "metadata": {},
   "outputs": [
    {
     "name": "stdout",
     "output_type": "stream",
     "text": [
      "array('i', [5, 4, 3, 2, 1, 10, 10])\n"
     ]
    }
   ],
   "source": [
    "arr.append(10)\n",
    "print(arr)"
   ]
  },
  {
   "cell_type": "code",
   "execution_count": 18,
   "id": "b1ed214b-3cbf-4deb-98f9-980bc6189cab",
   "metadata": {},
   "outputs": [],
   "source": [
    "arr.remove(10)"
   ]
  },
  {
   "cell_type": "code",
   "execution_count": 19,
   "id": "4d287b0a-22af-4086-98c6-9a59e14af0e7",
   "metadata": {},
   "outputs": [
    {
     "name": "stdout",
     "output_type": "stream",
     "text": [
      "array('i', [5, 4, 3, 2, 1, 10])\n"
     ]
    }
   ],
   "source": [
    "print(arr)"
   ]
  },
  {
   "cell_type": "code",
   "execution_count": 25,
   "id": "990bf3a9-83a6-42a2-98d5-f2cf6940742b",
   "metadata": {},
   "outputs": [
    {
     "name": "stdin",
     "output_type": "stream",
     "text": [
      "Enter size of array 4\n"
     ]
    },
    {
     "name": "stdout",
     "output_type": "stream",
     "text": [
      "enter 4 elements\n"
     ]
    },
    {
     "name": "stdin",
     "output_type": "stream",
     "text": [
      " 1\n",
      " 2\n",
      " 3\n",
      " 4\n"
     ]
    },
    {
     "name": "stdout",
     "output_type": "stream",
     "text": [
      "array('i', [1, 2, 3, 4])\n"
     ]
    }
   ],
   "source": [
    "arr = array(\"i\",[])\n",
    "x = int(input(\"Enter size of array\"))\n",
    "print(\"enter %d elements\"%x)\n",
    "for i in range(x):\n",
    "    n = int(input())\n",
    "    arr.append(n)\n",
    "print(arr)"
   ]
  },
  {
   "cell_type": "code",
   "execution_count": null,
   "id": "6f182028-e18a-4c6b-a1be-bb312c88e4af",
   "metadata": {},
   "outputs": [],
   "source": []
  }
 ],
 "metadata": {
  "kernelspec": {
   "display_name": "Python 3 (ipykernel)",
   "language": "python",
   "name": "python3"
  },
  "language_info": {
   "codemirror_mode": {
    "name": "ipython",
    "version": 3
   },
   "file_extension": ".py",
   "mimetype": "text/x-python",
   "name": "python",
   "nbconvert_exporter": "python",
   "pygments_lexer": "ipython3",
   "version": "3.11.7"
  }
 },
 "nbformat": 4,
 "nbformat_minor": 5
}
