{
 "cells": [
  {
   "cell_type": "markdown",
   "id": "b454dc4a-779c-4400-85b9-aae9bbac4bd2",
   "metadata": {},
   "source": [
    "# Python Scripting"
   ]
  },
  {
   "cell_type": "code",
   "execution_count": 2,
   "id": "059532ae-2ff6-49eb-b1ce-f03fcf22a133",
   "metadata": {},
   "outputs": [],
   "source": [
    "# Author: Anuj Gaikwad\n",
    "# Date: 23/05/2024"
   ]
  },
  {
   "cell_type": "code",
   "execution_count": 3,
   "id": "4613bba6-fe93-4848-ba72-7cf1b5e55ac8",
   "metadata": {},
   "outputs": [
    {
     "name": "stdout",
     "output_type": "stream",
     "text": [
      "C:\\Users\\anujg\\Python Workspace 2024\\Basics\n"
     ]
    }
   ],
   "source": [
    "import os\n",
    "\n",
    "def current_directory():\n",
    "    cwd = os.getcwd()\n",
    "    print(cwd)\n",
    "current_directory()"
   ]
  },
  {
   "cell_type": "code",
   "execution_count": 8,
   "id": "1a57d342-afd5-4e40-af32-92df3366b764",
   "metadata": {},
   "outputs": [
    {
     "name": "stdout",
     "output_type": "stream",
     "text": [
      "C:\\Users\\anujg\\Python Workspace 2024\\Basics\n",
      "C:\\Users\\anujg\\Python Workspace 2024\\Basics\\Arrays.ipynb\n"
     ]
    }
   ],
   "source": [
    "import os\n",
    "\n",
    "def current_directory():\n",
    "    cwd = os.getcwd()\n",
    "    print(cwd)\n",
    "def file_path(filename):\n",
    "    path = os.path.abspath(filename)\n",
    "    print(path)\n",
    "\n",
    "current_directory()\n",
    "filename = \"Arrays.ipynb\"\n",
    "file_path(filename)"
   ]
  },
  {
   "cell_type": "code",
   "execution_count": 16,
   "id": "e6d8c099-737a-48ca-8f5f-0df5268add89",
   "metadata": {},
   "outputs": [
    {
     "name": "stdout",
     "output_type": "stream",
     "text": [
      "1716445446.6768982\n",
      "time.struct_time(tm_year=2024, tm_mon=5, tm_mday=23, tm_hour=11, tm_min=54, tm_sec=6, tm_wday=3, tm_yday=144, tm_isdst=0)\n",
      "2024\n",
      "\n",
      "Thu May 23 11:54:06 2024\n"
     ]
    }
   ],
   "source": [
    "import time\n",
    "\n",
    "epc = time.time()\n",
    "print(epc)\n",
    "localtime = time.localtime(epc)\n",
    "print(localtime)\n",
    "print(localtime.tm_year)\n",
    "print()\n",
    "print(time.ctime(epc))"
   ]
  },
  {
   "cell_type": "code",
   "execution_count": null,
   "id": "29346ad0-90c7-4d53-8aee-c1426b387d0d",
   "metadata": {},
   "outputs": [],
   "source": [
    "# sending automated Email through py script\n",
    "\n",
    "import smtplib\n",
    "\n",
    "smtpObj = smtplib.SMTP('smtp@gmail.com',587)\n",
    "smtObj.ehlo()\n",
    "smtObj.startls()\n",
    "smtOb.login('bw20571@gmail.com','password')\n",
    "smtObj.sendmail(\"bw20571@gmail.com\",\"anujgaikwad392@gmail.com\",'Subject: SMTP Check. \\n this is a test email')\n",
    "smtObj.quit()"
   ]
  },
  {
   "cell_type": "code",
   "execution_count": 21,
   "id": "9ce28380-a370-4609-8fd7-418a067af3f3",
   "metadata": {},
   "outputs": [
    {
     "name": "stdout",
     "output_type": "stream",
     "text": [
      "File created\n"
     ]
    }
   ],
   "source": [
    "from os import path\n",
    "\n",
    "def createFile(dest):\n",
    "    if not(path.isfile(dest)):\n",
    "        f=open(dest,'w')\n",
    "        f.write(\"Welcome to Python Scripting\")\n",
    "        f.close()\n",
    "dest= \"C:/Users/anujg/Python Workspace 2024/Basics/sample.txt\"\n",
    "\n",
    "createFile(dest)\n",
    "\n",
    "print(\"File created\")"
   ]
  },
  {
   "cell_type": "code",
   "execution_count": 38,
   "id": "40591adf-6d87-4a25-81a5-7e47bfcfd8c2",
   "metadata": {},
   "outputs": [
    {
     "name": "stdout",
     "output_type": "stream",
     "text": [
      "10\n",
      "20\n",
      "30\n",
      "40\n"
     ]
    }
   ],
   "source": [
    "# passing multiple parrameter in function\n",
    "def func1(*args):\n",
    "    for i in args:\n",
    "        print(i)\n",
    "\n",
    "func1(10,20,30,40)"
   ]
  },
  {
   "cell_type": "code",
   "execution_count": 39,
   "id": "c34b33ea-9697-4f23-b7ca-dc9c2a2287a1",
   "metadata": {},
   "outputs": [
    {
     "name": "stdout",
     "output_type": "stream",
     "text": [
      "('a', 10)\n",
      "('b', 20)\n",
      "('c', 30)\n"
     ]
    }
   ],
   "source": [
    "# passing varialbles as parameters in function\n",
    "def func1(**kwargs):\n",
    "    for i in kwargs.items():\n",
    "        print(i)\n",
    "\n",
    "func1(a = 10,b = 20, c = 30)"
   ]
  },
  {
   "cell_type": "code",
   "execution_count": 40,
   "id": "b5f82cee-5044-4b90-b035-8b30107c4434",
   "metadata": {},
   "outputs": [
    {
     "name": "stdout",
     "output_type": "stream",
     "text": [
      "11\n"
     ]
    }
   ],
   "source": [
    "# cretion of file\n",
    "# nested functions\n",
    "def func1():\n",
    "    x = 10\n",
    "    def func2(x):\n",
    "        return x+1\n",
    "    return func2(x)\n",
    "\n",
    "result = func1()\n",
    "print(result)"
   ]
  },
  {
   "cell_type": "code",
   "execution_count": 47,
   "id": "f41f5561-129d-460a-af4c-a6f44cdbaec3",
   "metadata": {},
   "outputs": [
    {
     "name": "stdout",
     "output_type": "stream",
     "text": [
      "first function\n",
      "this is nested function\n",
      "outer function\n"
     ]
    }
   ],
   "source": [
    "# creating function at runtime\n",
    "def func1(called_func):\n",
    "    print(\"first function\")\n",
    "    def nested_func1(called_func):\n",
    "        print(\"this is nested function\")\n",
    "        called_func()\n",
    "    return nested_func1(called_func)\n",
    "    \n",
    "def outer_func():\n",
    "    print(\"outer function\")\n",
    "\n",
    "obj = func1(outer_func)"
   ]
  },
  {
   "cell_type": "code",
   "execution_count": 52,
   "id": "f34421e1-8a14-41e1-ad16-9e0a2faea011",
   "metadata": {},
   "outputs": [
    {
     "name": "stdout",
     "output_type": "stream",
     "text": [
      "5\n",
      "10\n"
     ]
    }
   ],
   "source": [
    "# creating classes at runtime\n",
    "# factory\n",
    "B = type(\"BaseClass\",(object,),{})\n",
    "C1 = type(\"C1\",(B,),{'val':5})\n",
    "C2 = type(\"C2\",(B,),{'val':10})\n",
    "\n",
    "def ClassCreator(bool):\n",
    "    if bool:\n",
    "        return C1()\n",
    "    else:\n",
    "        return C2()\n",
    "\n",
    "print(ClassCreator(True).val)\n",
    "print(ClassCreator(False).val)"
   ]
  },
  {
   "cell_type": "code",
   "execution_count": 57,
   "id": "b7cc6434-f789-4259-8e76-5064b942f6f6",
   "metadata": {},
   "outputs": [
    {
     "name": "stdout",
     "output_type": "stream",
     "text": [
      "first function\n",
      "this is nested function\n",
      "outer function\n"
     ]
    }
   ],
   "source": [
    "# Decorators\n",
    "def func1(called_func):\n",
    "    print(\"first function\")\n",
    "    def nested_func1():\n",
    "        print(\"this is nested function\")\n",
    "        called_func()\n",
    "    return nested_func1\n",
    "\n",
    "@func1\n",
    "def outer_func():\n",
    "    print(\"outer function\")\n",
    "\n",
    "outer_func()"
   ]
  },
  {
   "cell_type": "code",
   "execution_count": null,
   "id": "f0c543ca-f4b0-4420-9979-a1ab9e462f9d",
   "metadata": {},
   "outputs": [],
   "source": []
  }
 ],
 "metadata": {
  "kernelspec": {
   "display_name": "Python 3 (ipykernel)",
   "language": "python",
   "name": "python3"
  },
  "language_info": {
   "codemirror_mode": {
    "name": "ipython",
    "version": 3
   },
   "file_extension": ".py",
   "mimetype": "text/x-python",
   "name": "python",
   "nbconvert_exporter": "python",
   "pygments_lexer": "ipython3",
   "version": "3.11.7"
  }
 },
 "nbformat": 4,
 "nbformat_minor": 5
}
