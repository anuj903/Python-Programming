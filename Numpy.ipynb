{
 "cells": [
  {
   "cell_type": "markdown",
   "id": "f6868171-3c83-4205-ad97-545609d883bc",
   "metadata": {},
   "source": [
    "# NumPy"
   ]
  },
  {
   "cell_type": "code",
   "execution_count": 1,
   "id": "bd47fe66-cddd-49f0-a50d-a16df5a7436e",
   "metadata": {},
   "outputs": [],
   "source": [
    "# Author: Anuj Gaikwad\n",
    "# Date: 24/05/2024\n",
    "\n",
    "# Numpy is th core library for the scientific and numerical computing\n",
    "# in python\n",
    "# it provides high performance multidimentional array object and tools for \n",
    "# woking with arrays\n",
    "\n",
    "# Numpy's main object is the multidimentional array\n",
    "# it is a table of elements (usually numbers), all the same type, indexed by a tuple\n",
    "# of positive integers\n",
    "# In Numpy, dimentions are called axes"
   ]
  },
  {
   "cell_type": "code",
   "execution_count": 3,
   "id": "aedfbbcd-663d-4486-8ba0-ff65bf071eea",
   "metadata": {},
   "outputs": [],
   "source": [
    "import numpy as np"
   ]
  },
  {
   "cell_type": "code",
   "execution_count": 6,
   "id": "cba27154-71d5-4296-8222-d3f1b2e970e7",
   "metadata": {},
   "outputs": [
    {
     "name": "stdout",
     "output_type": "stream",
     "text": [
      "[1 2 3]\n"
     ]
    },
    {
     "data": {
      "text/plain": [
       "array([1, 2, 3])"
      ]
     },
     "execution_count": 6,
     "metadata": {},
     "output_type": "execute_result"
    }
   ],
   "source": [
    "a  = np.array([1,2,3])\n",
    "print(a)\n",
    "a"
   ]
  },
  {
   "cell_type": "code",
   "execution_count": 7,
   "id": "70a70088-32ae-45a6-bdd7-99b4f7c4141d",
   "metadata": {},
   "outputs": [
    {
     "data": {
      "text/plain": [
       "2"
      ]
     },
     "execution_count": 7,
     "metadata": {},
     "output_type": "execute_result"
    }
   ],
   "source": [
    "a[1]"
   ]
  },
  {
   "cell_type": "code",
   "execution_count": 8,
   "id": "e463805b-a74e-4bd0-ac15-ce88869c677b",
   "metadata": {},
   "outputs": [],
   "source": [
    "import time \n",
    "import sys"
   ]
  },
  {
   "cell_type": "code",
   "execution_count": 68,
   "id": "c106eeff-40bf-4fbe-bb48-dfdb41deff9a",
   "metadata": {},
   "outputs": [
    {
     "name": "stdout",
     "output_type": "stream",
     "text": [
      "28000\n"
     ]
    }
   ],
   "source": [
    "# comparing python list with numpy array\n",
    "b = range(1000)\n",
    "print(sys.getsizeof(5) * len(b))"
   ]
  },
  {
   "cell_type": "code",
   "execution_count": 13,
   "id": "55ff4eba-032d-42cc-9a79-15482f196e06",
   "metadata": {},
   "outputs": [
    {
     "name": "stdout",
     "output_type": "stream",
     "text": [
      "4000\n"
     ]
    }
   ],
   "source": [
    "c = np.arange(1000)\n",
    "print(c.size * c.itemsize)"
   ]
  },
  {
   "cell_type": "code",
   "execution_count": 14,
   "id": "6c863e5f-27b0-4ffd-8b8c-c698260bb5e2",
   "metadata": {},
   "outputs": [],
   "source": [
    "size = 100000"
   ]
  },
  {
   "cell_type": "code",
   "execution_count": 15,
   "id": "c6f7e46c-272d-4174-a80d-8238cd0ccea9",
   "metadata": {},
   "outputs": [],
   "source": [
    "L1 = range(size)\n",
    "L2 = range(size)\n",
    "A1 = np.arange(size)\n",
    "A2 = np.arange(size)"
   ]
  },
  {
   "cell_type": "code",
   "execution_count": 22,
   "id": "0075bb1c-7bbc-4f10-9ede-848b273b9452",
   "metadata": {},
   "outputs": [
    {
     "name": "stdout",
     "output_type": "stream",
     "text": [
      "python list took : 56.67877197265625\n"
     ]
    }
   ],
   "source": [
    "start = time.time()\n",
    "result = [(x + y) for x,y in zip(L1,L2)]\n",
    "result = [(x + y) for x,y in zip(L1,L2)]\n",
    "print(\"python list took :\",(time.time()-start)*1000)"
   ]
  },
  {
   "cell_type": "code",
   "execution_count": 23,
   "id": "6f515cc1-0394-4bcf-9a05-86b871903d4a",
   "metadata": {},
   "outputs": [
    {
     "name": "stdout",
     "output_type": "stream",
     "text": [
      "numpy list took : 5.003929138183594\n"
     ]
    }
   ],
   "source": [
    "start = time.time()\n",
    "result = A1 + A2\n",
    "print(\"numpy list took :\",(time.time()-start)*1000)"
   ]
  },
  {
   "cell_type": "code",
   "execution_count": 26,
   "id": "9ae53af6-c246-432d-8ce8-717149f5877e",
   "metadata": {},
   "outputs": [
    {
     "data": {
      "text/plain": [
       "array([[1, 2],\n",
       "       [3, 2],\n",
       "       [3, 4],\n",
       "       [5, 6]])"
      ]
     },
     "execution_count": 26,
     "metadata": {},
     "output_type": "execute_result"
    }
   ],
   "source": [
    "a = np.array([[1,2],[3,2],[3,4],[5,6]])\n",
    "a"
   ]
  },
  {
   "cell_type": "code",
   "execution_count": 27,
   "id": "d8ddb7b5-eaa6-4bac-91b3-962a660b7998",
   "metadata": {},
   "outputs": [
    {
     "data": {
      "text/plain": [
       "2"
      ]
     },
     "execution_count": 27,
     "metadata": {},
     "output_type": "execute_result"
    }
   ],
   "source": [
    "a.ndim"
   ]
  },
  {
   "cell_type": "code",
   "execution_count": 28,
   "id": "c316f3f5-a982-49d1-adc5-0b3b9586fe7e",
   "metadata": {},
   "outputs": [
    {
     "data": {
      "text/plain": [
       "4"
      ]
     },
     "execution_count": 28,
     "metadata": {},
     "output_type": "execute_result"
    }
   ],
   "source": [
    "a.itemsize"
   ]
  },
  {
   "cell_type": "code",
   "execution_count": 29,
   "id": "cb80153f-6497-4aeb-bfb4-0487c3d8b00b",
   "metadata": {},
   "outputs": [
    {
     "data": {
      "text/plain": [
       "(4, 2)"
      ]
     },
     "execution_count": 29,
     "metadata": {},
     "output_type": "execute_result"
    }
   ],
   "source": [
    "a.shape"
   ]
  },
  {
   "cell_type": "code",
   "execution_count": 30,
   "id": "fd3da194-b4d1-4a47-8a53-c87d761f5ec5",
   "metadata": {},
   "outputs": [
    {
     "data": {
      "text/plain": [
       "array([[1., 2.],\n",
       "       [3., 2.],\n",
       "       [3., 4.],\n",
       "       [5., 6.]])"
      ]
     },
     "execution_count": 30,
     "metadata": {},
     "output_type": "execute_result"
    }
   ],
   "source": [
    "a = np.array([[1,2],[3,2],[3,4],[5,6]], dtype = np.float64)\n",
    "a"
   ]
  },
  {
   "cell_type": "code",
   "execution_count": 31,
   "id": "4dddf7e0-8b9b-4800-ba4b-c5d2c5b644fb",
   "metadata": {},
   "outputs": [
    {
     "data": {
      "text/plain": [
       "8"
      ]
     },
     "execution_count": 31,
     "metadata": {},
     "output_type": "execute_result"
    }
   ],
   "source": [
    "a.itemsize"
   ]
  },
  {
   "cell_type": "code",
   "execution_count": 32,
   "id": "38f8fae1-9a38-47d3-819d-f0cc58cd005f",
   "metadata": {},
   "outputs": [
    {
     "data": {
      "text/plain": [
       "(4, 2)"
      ]
     },
     "execution_count": 32,
     "metadata": {},
     "output_type": "execute_result"
    }
   ],
   "source": [
    "a.shape"
   ]
  },
  {
   "cell_type": "code",
   "execution_count": 36,
   "id": "61fe0686-9acd-49e0-9a0b-7d3722f6217c",
   "metadata": {},
   "outputs": [
    {
     "data": {
      "text/plain": [
       "array([[1.+0.j, 2.+0.j],\n",
       "       [3.+0.j, 2.+0.j],\n",
       "       [3.+0.j, 4.+0.j],\n",
       "       [5.+0.j, 6.+0.j]])"
      ]
     },
     "execution_count": 36,
     "metadata": {},
     "output_type": "execute_result"
    }
   ],
   "source": [
    "a = np.array([[1,2],[3,2],[3,4],[5,6]], dtype = np.complex128(1))\n",
    "a"
   ]
  },
  {
   "cell_type": "code",
   "execution_count": 38,
   "id": "5f6e9edf-33f5-4ad0-960f-c716504a42a6",
   "metadata": {},
   "outputs": [
    {
     "data": {
      "text/plain": [
       "array([[0., 0., 0., 0.],\n",
       "       [0., 0., 0., 0.],\n",
       "       [0., 0., 0., 0.]])"
      ]
     },
     "execution_count": 38,
     "metadata": {},
     "output_type": "execute_result"
    }
   ],
   "source": [
    "np.zeros((3,4))"
   ]
  },
  {
   "cell_type": "code",
   "execution_count": 39,
   "id": "239c6a39-7322-4ce4-b6a3-e453e33f61d1",
   "metadata": {},
   "outputs": [
    {
     "data": {
      "text/plain": [
       "array([[1., 1., 1., 1.],\n",
       "       [1., 1., 1., 1.],\n",
       "       [1., 1., 1., 1.]])"
      ]
     },
     "execution_count": 39,
     "metadata": {},
     "output_type": "execute_result"
    }
   ],
   "source": [
    "np.ones((3,4))"
   ]
  },
  {
   "cell_type": "code",
   "execution_count": 40,
   "id": "c3bdf914-f911-4f4e-8a22-92d2699053d2",
   "metadata": {},
   "outputs": [
    {
     "data": {
      "text/plain": [
       "range(0, 5)"
      ]
     },
     "execution_count": 40,
     "metadata": {},
     "output_type": "execute_result"
    }
   ],
   "source": [
    "l = range(5)\n",
    "l"
   ]
  },
  {
   "cell_type": "code",
   "execution_count": 41,
   "id": "f7309aa8-5c2b-4e34-89e7-193df8d090f9",
   "metadata": {},
   "outputs": [
    {
     "data": {
      "text/plain": [
       "array([0, 1, 2, 3, 4])"
      ]
     },
     "execution_count": 41,
     "metadata": {},
     "output_type": "execute_result"
    }
   ],
   "source": [
    "np.arange(5)"
   ]
  },
  {
   "cell_type": "code",
   "execution_count": 44,
   "id": "ea61909f-a10a-4934-95e5-7e9f9cc01d6a",
   "metadata": {},
   "outputs": [
    {
     "name": "stdout",
     "output_type": "stream",
     "text": [
      "concatenation example\n",
      "['hello abc' 'hi xyz']\n"
     ]
    }
   ],
   "source": [
    "print('concatenation example')\n",
    "print(np.char.add(['hello ','hi '],['abc','xyz']))"
   ]
  },
  {
   "cell_type": "code",
   "execution_count": 50,
   "id": "0605f278-d4e8-4f40-b638-b7b5cee97df4",
   "metadata": {},
   "outputs": [
    {
     "name": "stdout",
     "output_type": "stream",
     "text": [
      "HelloHelloHello\n"
     ]
    }
   ],
   "source": [
    "print(np.char.multiply(\"Hello\", 3))"
   ]
  },
  {
   "cell_type": "code",
   "execution_count": 54,
   "id": "6176a233-7bef-42e6-ba72-a5057aea75e3",
   "metadata": {},
   "outputs": [
    {
     "name": "stdout",
     "output_type": "stream",
     "text": [
      "-------Hello--------\n"
     ]
    }
   ],
   "source": [
    "print(np.char.center(\"Hello\", 20, fillchar = '-'))"
   ]
  },
  {
   "cell_type": "code",
   "execution_count": 56,
   "id": "9a3fc810-ab28-40a9-9c60-44a36777a177",
   "metadata": {},
   "outputs": [
    {
     "name": "stdout",
     "output_type": "stream",
     "text": [
      "Hello world\n"
     ]
    }
   ],
   "source": [
    "print(np.char.capitalize(\"hello world\"))"
   ]
  },
  {
   "cell_type": "code",
   "execution_count": 58,
   "id": "6f2574e9-0f37-4853-ad32-e02cfefa4274",
   "metadata": {},
   "outputs": [
    {
     "name": "stdout",
     "output_type": "stream",
     "text": [
      "Hello World, How You Doing\n"
     ]
    }
   ],
   "source": [
    "print(np.char.title(\"hello world, how you doing\"))"
   ]
  },
  {
   "cell_type": "code",
   "execution_count": 59,
   "id": "489fb9c0-d645-497d-995e-ea63825b5014",
   "metadata": {},
   "outputs": [
    {
     "name": "stdout",
     "output_type": "stream",
     "text": [
      "['hello' 'world']\n",
      "hello\n"
     ]
    }
   ],
   "source": [
    "print(np.char.lower([\"HELLO\",\"WORLD\"]))\n",
    "print(np.char.lower(\"HELLO\"))"
   ]
  },
  {
   "cell_type": "code",
   "execution_count": 61,
   "id": "c4d68bed-a30b-4aa9-ad9e-cc17324fcbf1",
   "metadata": {},
   "outputs": [
    {
     "name": "stdout",
     "output_type": "stream",
     "text": [
      "['PYTHON' 'DATA']\n",
      "PYTHON IS EASY\n"
     ]
    }
   ],
   "source": [
    "print(np.char.upper([\"python\",\"data\"]))\n",
    "print(np.char.upper(\"python is easy\"))"
   ]
  },
  {
   "cell_type": "code",
   "execution_count": 62,
   "id": "2e0498b4-177e-4e44-a622-57919180610b",
   "metadata": {},
   "outputs": [
    {
     "name": "stdout",
     "output_type": "stream",
     "text": [
      "['are', 'you', 'coming', 'to', 'the', 'party?']\n"
     ]
    }
   ],
   "source": [
    "print(np.char.split(\"are you coming to the party?\"))"
   ]
  },
  {
   "cell_type": "code",
   "execution_count": 64,
   "id": "8d68c42f-6258-4e26-9586-12aa328d40bb",
   "metadata": {},
   "outputs": [
    {
     "name": "stdout",
     "output_type": "stream",
     "text": [
      "['hello ', ' are you coming to the party?']\n"
     ]
    }
   ],
   "source": [
    "print(np.char.splitlines(\"hello \\n are you coming to the party?\"))"
   ]
  },
  {
   "cell_type": "code",
   "execution_count": 65,
   "id": "9b437aab-9e2d-4fcd-86a9-c9068217d974",
   "metadata": {},
   "outputs": [
    {
     "name": "stdout",
     "output_type": "stream",
     "text": [
      "['nin' 'dmin' 'nit']\n"
     ]
    }
   ],
   "source": [
    "print(np.char.strip(['nina','admin','anita'],'a'))"
   ]
  },
  {
   "cell_type": "code",
   "execution_count": 66,
   "id": "7074b10e-64d6-4f48-8780-d4273d37a184",
   "metadata": {},
   "outputs": [
    {
     "name": "stdout",
     "output_type": "stream",
     "text": [
      "['d:m:y' 'y-m-d']\n"
     ]
    }
   ],
   "source": [
    "print(np.char.join([':','-'],['dmy','ymd']))"
   ]
  },
  {
   "cell_type": "code",
   "execution_count": 67,
   "id": "a058af52-68ad-468b-99fb-d3869b3604be",
   "metadata": {},
   "outputs": [
    {
     "name": "stdout",
     "output_type": "stream",
     "text": [
      "He was a good Dancer\n"
     ]
    }
   ],
   "source": [
    "print(np.char.replace(\"He is a good Dancer\",'is','was'))"
   ]
  },
  {
   "cell_type": "code",
   "execution_count": null,
   "id": "29ce0040-0110-4977-8660-802ae2f2812a",
   "metadata": {},
   "outputs": [],
   "source": []
  }
 ],
 "metadata": {
  "kernelspec": {
   "display_name": "Python 3 (ipykernel)",
   "language": "python",
   "name": "python3"
  },
  "language_info": {
   "codemirror_mode": {
    "name": "ipython",
    "version": 3
   },
   "file_extension": ".py",
   "mimetype": "text/x-python",
   "name": "python",
   "nbconvert_exporter": "python",
   "pygments_lexer": "ipython3",
   "version": "3.11.7"
  }
 },
 "nbformat": 4,
 "nbformat_minor": 5
}
