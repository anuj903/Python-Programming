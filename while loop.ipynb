{
 "cells": [
  {
   "cell_type": "markdown",
   "id": "78ee568a-ddc2-4d4b-9f56-caa279ba6227",
   "metadata": {},
   "source": [
    "# while Loop"
   ]
  },
  {
   "cell_type": "code",
   "execution_count": 1,
   "id": "0126ac8a-5a1f-4a57-ac25-a86584aa2a5d",
   "metadata": {},
   "outputs": [],
   "source": [
    "# Author: Anuj Gaikwad\n",
    "# Date: 21/05/2024\n",
    "\n",
    "# while expression:\n",
    "#     statements(S)"
   ]
  },
  {
   "cell_type": "code",
   "execution_count": 5,
   "id": "d38845b6-01ef-4eba-be97-60b8c3131657",
   "metadata": {},
   "outputs": [
    {
     "name": "stdout",
     "output_type": "stream",
     "text": [
      "Shadowmaster\n",
      "Shadowmaster\n",
      "Shadowmaster\n",
      "Shadowmaster\n",
      "Shadowmaster\n",
      "Shadowmaster\n",
      "Shadowmaster\n",
      "Shadowmaster\n",
      "Shadowmaster\n",
      "Shadowmaster\n"
     ]
    }
   ],
   "source": [
    "i = 0\n",
    "while i<10:\n",
    "    print(\"Shadowmaster\")\n",
    "    i+=1"
   ]
  },
  {
   "cell_type": "code",
   "execution_count": 6,
   "id": "1ece6a2c-1e8c-423e-b6d8-7bae3bbf074e",
   "metadata": {},
   "outputs": [
    {
     "name": "stdout",
     "output_type": "stream",
     "text": [
      "Shadowmaster\n",
      "Shadowmaster\n",
      "Shadowmaster\n",
      "Shadowmaster\n",
      "Shadowmaster\n",
      "Shadowmaster\n",
      "Shadowmaster\n",
      "Shadowmaster\n",
      "Shadowmaster\n",
      "Shadowmaster\n"
     ]
    }
   ],
   "source": [
    "i = 10\n",
    "while i>=1:\n",
    "    print(\"Shadowmaster\")\n",
    "    i-=1"
   ]
  },
  {
   "cell_type": "code",
   "execution_count": 15,
   "id": "2570f069-ca95-4fbd-b564-b0fefba2e579",
   "metadata": {},
   "outputs": [
    {
     "name": "stdout",
     "output_type": "stream",
     "text": [
      "55\n"
     ]
    }
   ],
   "source": [
    "# sum of 1 to 10\n",
    "i = 0\n",
    "sum = 0\n",
    "while i<=10:\n",
    "    sum = sum + i\n",
    "    i+=1\n",
    "print(sum)"
   ]
  },
  {
   "cell_type": "code",
   "execution_count": 13,
   "id": "30ab2fae-8937-4e4d-84cd-0a3364aa0647",
   "metadata": {},
   "outputs": [
    {
     "name": "stdout",
     "output_type": "stream",
     "text": [
      "30\n"
     ]
    }
   ],
   "source": [
    "# sum of even between 1 to 10\n",
    "i = 0\n",
    "sum = 0\n",
    "while i<=10:\n",
    "    if i % 2 == 0:\n",
    "        sum+=i\n",
    "    i+=1\n",
    "print(sum)"
   ]
  },
  {
   "cell_type": "code",
   "execution_count": 19,
   "id": "2e02d6fd-17e7-4fad-82de-0ca8fa4f3930",
   "metadata": {},
   "outputs": [
    {
     "name": "stdin",
     "output_type": "stream",
     "text": [
      "Enter a number 123\n"
     ]
    },
    {
     "name": "stdout",
     "output_type": "stream",
     "text": [
      "321\n"
     ]
    }
   ],
   "source": [
    "# reverse integer\n",
    "variable = int(input(\"Enter a number\"))\n",
    "reverse = 0\n",
    "while variable % 10 != 0:\n",
    "    temp = variable % 10\n",
    "    reverse = reverse * 10 + temp\n",
    "    variable = variable // 10\n",
    "print(reverse)"
   ]
  },
  {
   "cell_type": "code",
   "execution_count": 24,
   "id": "d67d46ad-bb46-495d-8c04-d0e6245f0e46",
   "metadata": {},
   "outputs": [
    {
     "name": "stdout",
     "output_type": "stream",
     "text": [
      "3\n"
     ]
    }
   ],
   "source": [
    "# calulate length of list without using Len\n",
    "x = [1, 3,\"Scattershot\"]\n",
    "length = 0\n",
    "i = 0\n",
    "try:\n",
    "    while x[i]:\n",
    "        length += 1\n",
    "        i += 1\n",
    "except IndexError:\n",
    "    print(length)"
   ]
  },
  {
   "cell_type": "code",
   "execution_count": 28,
   "id": "088feba2-8f25-4d46-b130-b2022f9136c4",
   "metadata": {},
   "outputs": [
    {
     "name": "stdin",
     "output_type": "stream",
     "text": [
      "enter a number 5\n"
     ]
    },
    {
     "name": "stdout",
     "output_type": "stream",
     "text": [
      "1\n",
      "22\n",
      "333\n",
      "4444\n",
      "55555\n"
     ]
    }
   ],
   "source": [
    "# pattern using nested while loop\n",
    "n = int(input(\"enter a number\"))\n",
    "i = 1\n",
    "while i <= n:\n",
    "    j = 1\n",
    "    while j <= i:\n",
    "        print(i, end=\"\")\n",
    "        j+=1\n",
    "    i+=1\n",
    "    print()"
   ]
  },
  {
   "cell_type": "code",
   "execution_count": 30,
   "id": "4404d330-139a-4502-92af-4c886462f156",
   "metadata": {},
   "outputs": [
    {
     "name": "stdin",
     "output_type": "stream",
     "text": [
      "enter a 3 digit number 123\n"
     ]
    },
    {
     "name": "stdout",
     "output_type": "stream",
     "text": [
      "0 digits were guessed right\n"
     ]
    },
    {
     "name": "stdin",
     "output_type": "stream",
     "text": [
      "Enter a 3 digit number 145\n"
     ]
    },
    {
     "name": "stdout",
     "output_type": "stream",
     "text": [
      "1 digits were guessed right\n"
     ]
    },
    {
     "name": "stdin",
     "output_type": "stream",
     "text": [
      "Enter a 3 digit number 156\n"
     ]
    },
    {
     "name": "stdout",
     "output_type": "stream",
     "text": [
      "1 digits were guessed right\n"
     ]
    },
    {
     "name": "stdin",
     "output_type": "stream",
     "text": [
      "Enter a 3 digit number 555\n"
     ]
    },
    {
     "name": "stdout",
     "output_type": "stream",
     "text": [
      "0 digits were guessed right\n"
     ]
    },
    {
     "name": "stdin",
     "output_type": "stream",
     "text": [
      "Enter a 3 digit number 444\n"
     ]
    },
    {
     "name": "stdout",
     "output_type": "stream",
     "text": [
      "1 digits were guessed right\n"
     ]
    },
    {
     "name": "stdin",
     "output_type": "stream",
     "text": [
      "Enter a 3 digit number 545\n"
     ]
    },
    {
     "name": "stdout",
     "output_type": "stream",
     "text": [
      "1 digits were guessed right\n"
     ]
    },
    {
     "name": "stdin",
     "output_type": "stream",
     "text": [
      "Enter a 3 digit number 664\n"
     ]
    },
    {
     "name": "stdout",
     "output_type": "stream",
     "text": [
      "1 digits were guessed right\n"
     ]
    },
    {
     "name": "stdin",
     "output_type": "stream",
     "text": [
      "Enter a 3 digit number 948\n"
     ]
    },
    {
     "name": "stdout",
     "output_type": "stream",
     "text": [
      "1 digits were guessed right\n"
     ]
    },
    {
     "name": "stdin",
     "output_type": "stream",
     "text": [
      "Enter a 3 digit number 789\n"
     ]
    },
    {
     "name": "stdout",
     "output_type": "stream",
     "text": [
      "0 digits were guessed right\n"
     ]
    },
    {
     "name": "stdin",
     "output_type": "stream",
     "text": [
      "Enter a 3 digit number 748\n"
     ]
    },
    {
     "name": "stdout",
     "output_type": "stream",
     "text": [
      "1 digits were guessed right\n"
     ]
    },
    {
     "name": "stdin",
     "output_type": "stream",
     "text": [
      "Enter a 3 digit number 964\n"
     ]
    },
    {
     "name": "stdout",
     "output_type": "stream",
     "text": [
      "0 digits were guessed right\n"
     ]
    },
    {
     "name": "stdin",
     "output_type": "stream",
     "text": [
      "Enter a 3 digit number 449\n"
     ]
    },
    {
     "name": "stdout",
     "output_type": "stream",
     "text": [
      "1 digits were guessed right\n"
     ]
    },
    {
     "name": "stdin",
     "output_type": "stream",
     "text": [
      "Enter a 3 digit number 478\n"
     ]
    },
    {
     "name": "stdout",
     "output_type": "stream",
     "text": [
      "0 digits were guessed right\n"
     ]
    },
    {
     "name": "stdin",
     "output_type": "stream",
     "text": [
      "Enter a 3 digit number 746\n"
     ]
    },
    {
     "name": "stdout",
     "output_type": "stream",
     "text": [
      "2 digits were guessed right\n"
     ]
    },
    {
     "name": "stdin",
     "output_type": "stream",
     "text": [
      "Enter a 3 digit number 745\n"
     ]
    },
    {
     "name": "stdout",
     "output_type": "stream",
     "text": [
      "1 digits were guessed right\n"
     ]
    },
    {
     "name": "stdin",
     "output_type": "stream",
     "text": [
      "Enter a 3 digit number 846\n"
     ]
    },
    {
     "name": "stdout",
     "output_type": "stream",
     "text": [
      "2 digits were guessed right\n"
     ]
    },
    {
     "name": "stdin",
     "output_type": "stream",
     "text": [
      "Enter a 3 digit number 146\n"
     ]
    },
    {
     "name": "stdout",
     "output_type": "stream",
     "text": [
      "2 digits were guessed right\n"
     ]
    },
    {
     "name": "stdin",
     "output_type": "stream",
     "text": [
      "Enter a 3 digit number 246\n"
     ]
    },
    {
     "name": "stdout",
     "output_type": "stream",
     "text": [
      "2 digits were guessed right\n"
     ]
    },
    {
     "name": "stdin",
     "output_type": "stream",
     "text": [
      "Enter a 3 digit number 346\n"
     ]
    },
    {
     "name": "stdout",
     "output_type": "stream",
     "text": [
      "2 digits were guessed right\n"
     ]
    },
    {
     "name": "stdin",
     "output_type": "stream",
     "text": [
      "Enter a 3 digit number 546\n"
     ]
    },
    {
     "name": "stdout",
     "output_type": "stream",
     "text": [
      "2 digits were guessed right\n"
     ]
    },
    {
     "name": "stdin",
     "output_type": "stream",
     "text": [
      "Enter a 3 digit number 646\n"
     ]
    },
    {
     "name": "stdout",
     "output_type": "stream",
     "text": [
      "congrats you guessed it\n"
     ]
    }
   ],
   "source": [
    "# Guess the number Game\n",
    "import random\n",
    "nump = random.randint(100,999)\n",
    "n = int(input(\"enter a 3 digit number\"))\n",
    "\n",
    "while n != 10:\n",
    "    num = nump\n",
    "    cor = 0\n",
    "    while num % 10 :\n",
    "        numc = num%10\n",
    "        nc = n%10\n",
    "        num = num//10\n",
    "        n = n//10\n",
    "        if numc == nc:\n",
    "            cor = cor+1\n",
    "    if cor == 3:\n",
    "        print(\"congrats you guessed it\")\n",
    "        break\n",
    "    else:\n",
    "        print(\"%d digits were guessed right\" %cor)\n",
    "        n = int(input(\"Enter a 3 digit number\"))\n",
    "else:\n",
    "    print(\"you quit the game\")\n",
    "        "
   ]
  },
  {
   "cell_type": "code",
   "execution_count": null,
   "id": "077f2bc6-dc6d-421f-8b47-50c8e4297664",
   "metadata": {},
   "outputs": [],
   "source": []
  }
 ],
 "metadata": {
  "kernelspec": {
   "display_name": "Python 3 (ipykernel)",
   "language": "python",
   "name": "python3"
  },
  "language_info": {
   "codemirror_mode": {
    "name": "ipython",
    "version": 3
   },
   "file_extension": ".py",
   "mimetype": "text/x-python",
   "name": "python",
   "nbconvert_exporter": "python",
   "pygments_lexer": "ipython3",
   "version": "3.11.7"
  }
 },
 "nbformat": 4,
 "nbformat_minor": 5
}
