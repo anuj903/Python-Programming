{
 "cells": [
  {
   "cell_type": "code",
   "execution_count": 1,
   "id": "55869e8b-d6ab-4b5e-848d-527a82a2846f",
   "metadata": {},
   "outputs": [],
   "source": [
    "# Author: Anuj Gaikwad\n",
    "# Date: 23/05/2024\n",
    "\n",
    "\n",
    "# Tensorflow\n",
    "# Library for high performance numerical computation\n",
    "# Used across many scientific domains\n",
    "\n",
    "# Data in tensorflow are represented as tensors, which are \n",
    "# multidimentional arrays\n",
    "\n",
    "# Features\n",
    "# Better computational Graph visualizations\n",
    "# In neural machine translation reduces error by 50-60%\n",
    "# Parallel computing to execute complex models\n",
    "# Seamless Library management\n",
    "\n",
    "# Applications of tensorflow\n",
    "# Speech/ Image Recognition\n",
    "# Text based Applications\n",
    "# Time series\n",
    "# Video detection"
   ]
  },
  {
   "cell_type": "code",
   "execution_count": 4,
   "id": "3f563adb-a8f9-4a33-ac96-5178173d0237",
   "metadata": {},
   "outputs": [],
   "source": [
    "# numpy\n",
    "# numerical python\n",
    "# General purpose Array processing package\n",
    "\n",
    "# Numpy is the fundamental package for numerical computation with python,\n",
    "# it contains a powerful N-dimentional array object.\n",
    "\n",
    "# features of Numpy\n",
    "# provides fast precompiled functions for numerical routines\n",
    "# Array oriented computing for better efficiency\n",
    "# supports object oriented approach\n",
    "# Compact & faster computations with vectorization\n",
    "\n",
    "# Applications of Numpy\n",
    "# Extensivley used in Data analysis\n",
    "# creating powerful N-Dimentional array\n",
    "# forms the base of other bibraries like scipy, scikit-Learn\n",
    "# Replacement of MATLAB when used with scipy, MATPLOTLIB\n"
   ]
  },
  {
   "cell_type": "code",
   "execution_count": 5,
   "id": "88db4f6b-dfc1-4b58-9c31-1c4be18b6f2a",
   "metadata": {},
   "outputs": [
    {
     "name": "stdout",
     "output_type": "stream",
     "text": [
      "<class 'numpy.ndarray'>\n",
      "(3,)\n"
     ]
    }
   ],
   "source": [
    "import numpy as np\n",
    "\n",
    "a = np.array([1,2,3])\n",
    "print(type(a))\n",
    "\n",
    "print(a.shape)"
   ]
  },
  {
   "cell_type": "code",
   "execution_count": 7,
   "id": "0fe53dd2-856c-4774-a020-1d88fa8a7b73",
   "metadata": {},
   "outputs": [
    {
     "data": {
      "text/plain": [
       "array([ 0,  1,  2,  3,  4,  5,  6,  7,  8,  9, 10, 11])"
      ]
     },
     "execution_count": 7,
     "metadata": {},
     "output_type": "execute_result"
    }
   ],
   "source": [
    "b = np.arange(12)\n",
    "b"
   ]
  },
  {
   "cell_type": "code",
   "execution_count": 8,
   "id": "0bd630ae-1ef1-46cb-909a-f60799234682",
   "metadata": {},
   "outputs": [
    {
     "data": {
      "text/plain": [
       "array([[ 0,  1,  2,  3],\n",
       "       [ 4,  5,  6,  7],\n",
       "       [ 8,  9, 10, 11]])"
      ]
     },
     "execution_count": 8,
     "metadata": {},
     "output_type": "execute_result"
    }
   ],
   "source": [
    "b.reshape(3,4)"
   ]
  },
  {
   "cell_type": "code",
   "execution_count": 9,
   "id": "44158f1f-6173-42e0-8a94-a69bf8fb7917",
   "metadata": {},
   "outputs": [],
   "source": [
    "# scipy\n",
    "# scientific python\n",
    "# used for scientific & technical computations\n",
    "\n",
    "# It provides many user friendly and efficient routines for scientific\n",
    "# computation, it extends Numpy\n",
    "\n",
    "# features\n",
    "# A collection of mathematical algorithms and scientific functions built on the numoy extension \n",
    "# of python\n",
    "# High level commands and classes for manipulating and visualising \n",
    "# data\n",
    "# Multi dimentionsal image processing with scipy.ndimage\n",
    "# Includes functions for computing integrals numerically, solving differential\n",
    "# equations, optimizations etc\n",
    "\n",
    "# Applications of scipy\n",
    "# Multidimentional image operations\n",
    "# Solving differnential equations & fourier transform\n",
    "# Optimization Algorithms\n",
    "# Linear Algebra"
   ]
  },
  {
   "cell_type": "code",
   "execution_count": 10,
   "id": "bb60a932-647c-4103-a18e-a70487eb0dd2",
   "metadata": {},
   "outputs": [
    {
     "name": "stdout",
     "output_type": "stream",
     "text": [
      "299792458.0\n",
      "6.62607015e-34\n",
      "6.02214076e+23\n"
     ]
    }
   ],
   "source": [
    "from scipy import constants\n",
    "\n",
    "print(constants.c) # speed of light\n",
    "print(constants.h) # Plank's constant\n",
    "print(constants.N_A) # Avogadro's number"
   ]
  },
  {
   "cell_type": "code",
   "execution_count": 11,
   "id": "f3663188-c282-4730-aba0-9618b3d908ad",
   "metadata": {},
   "outputs": [],
   "source": [
    "# pandas\n",
    "# Python data analysis library\n",
    "# Used for data analysis & cleaning\n",
    "\n",
    "# It provides fast & flexible, and Expensive data structures designed to work with \n",
    "# structured data easily and inttuitively\n",
    "\n",
    "# features\n",
    "# eloquent syntax & rich functionality\n",
    "# Apply() enables you to run a function across a series of data\n",
    "# High level abstraction\n",
    "# Contains High level data structures & manipulation tools\n",
    "\n",
    "# Applications\n",
    "# general data wrangling \n",
    "# ETL jobs and data storage\n",
    "# Used in a wide variety of academic and commercial domains, including\n",
    "# statistics etc\n",
    "# Time series - specific functionality"
   ]
  },
  {
   "cell_type": "code",
   "execution_count": 12,
   "id": "50eaef20-6a9d-4d2d-b937-f6cbc339a53f",
   "metadata": {},
   "outputs": [],
   "source": [
    "import pandas as pd"
   ]
  },
  {
   "cell_type": "code",
   "execution_count": 14,
   "id": "1ba9ed68-867d-4796-affa-268eec8817bf",
   "metadata": {},
   "outputs": [
    {
     "data": {
      "text/html": [
       "<div>\n",
       "<style scoped>\n",
       "    .dataframe tbody tr th:only-of-type {\n",
       "        vertical-align: middle;\n",
       "    }\n",
       "\n",
       "    .dataframe tbody tr th {\n",
       "        vertical-align: top;\n",
       "    }\n",
       "\n",
       "    .dataframe thead th {\n",
       "        text-align: right;\n",
       "    }\n",
       "</style>\n",
       "<table border=\"1\" class=\"dataframe\">\n",
       "  <thead>\n",
       "    <tr style=\"text-align: right;\">\n",
       "      <th></th>\n",
       "      <th>A</th>\n",
       "      <th>B</th>\n",
       "      <th>C</th>\n",
       "      <th>D</th>\n",
       "    </tr>\n",
       "  </thead>\n",
       "  <tbody>\n",
       "    <tr>\n",
       "      <th>0</th>\n",
       "      <td>-0.367576</td>\n",
       "      <td>0.176264</td>\n",
       "      <td>1.135491</td>\n",
       "      <td>-1.343973</td>\n",
       "    </tr>\n",
       "    <tr>\n",
       "      <th>1</th>\n",
       "      <td>-1.755535</td>\n",
       "      <td>0.683717</td>\n",
       "      <td>0.620275</td>\n",
       "      <td>2.439360</td>\n",
       "    </tr>\n",
       "    <tr>\n",
       "      <th>2</th>\n",
       "      <td>1.045755</td>\n",
       "      <td>1.038043</td>\n",
       "      <td>1.794045</td>\n",
       "      <td>-2.563711</td>\n",
       "    </tr>\n",
       "    <tr>\n",
       "      <th>3</th>\n",
       "      <td>-0.340751</td>\n",
       "      <td>-0.085873</td>\n",
       "      <td>-1.041511</td>\n",
       "      <td>-0.214093</td>\n",
       "    </tr>\n",
       "    <tr>\n",
       "      <th>4</th>\n",
       "      <td>-0.874121</td>\n",
       "      <td>-0.395497</td>\n",
       "      <td>-1.118132</td>\n",
       "      <td>-2.001804</td>\n",
       "    </tr>\n",
       "    <tr>\n",
       "      <th>5</th>\n",
       "      <td>0.100033</td>\n",
       "      <td>-0.500293</td>\n",
       "      <td>-0.170522</td>\n",
       "      <td>0.814362</td>\n",
       "    </tr>\n",
       "  </tbody>\n",
       "</table>\n",
       "</div>"
      ],
      "text/plain": [
       "          A         B         C         D\n",
       "0 -0.367576  0.176264  1.135491 -1.343973\n",
       "1 -1.755535  0.683717  0.620275  2.439360\n",
       "2  1.045755  1.038043  1.794045 -2.563711\n",
       "3 -0.340751 -0.085873 -1.041511 -0.214093\n",
       "4 -0.874121 -0.395497 -1.118132 -2.001804\n",
       "5  0.100033 -0.500293 -0.170522  0.814362"
      ]
     },
     "execution_count": 14,
     "metadata": {},
     "output_type": "execute_result"
    }
   ],
   "source": [
    "df = pd.DataFrame(np.random.randn(6,4),index = list(range(6)),columns = list('ABCD'))\n",
    "df"
   ]
  },
  {
   "cell_type": "code",
   "execution_count": 15,
   "id": "6bffca56-c379-4dd3-983c-5ff4c30ae598",
   "metadata": {},
   "outputs": [
    {
     "data": {
      "text/html": [
       "<div>\n",
       "<style scoped>\n",
       "    .dataframe tbody tr th:only-of-type {\n",
       "        vertical-align: middle;\n",
       "    }\n",
       "\n",
       "    .dataframe tbody tr th {\n",
       "        vertical-align: top;\n",
       "    }\n",
       "\n",
       "    .dataframe thead th {\n",
       "        text-align: right;\n",
       "    }\n",
       "</style>\n",
       "<table border=\"1\" class=\"dataframe\">\n",
       "  <thead>\n",
       "    <tr style=\"text-align: right;\">\n",
       "      <th></th>\n",
       "      <th>A</th>\n",
       "      <th>B</th>\n",
       "      <th>C</th>\n",
       "      <th>D</th>\n",
       "    </tr>\n",
       "  </thead>\n",
       "  <tbody>\n",
       "    <tr>\n",
       "      <th>count</th>\n",
       "      <td>6.000000</td>\n",
       "      <td>6.000000</td>\n",
       "      <td>6.000000</td>\n",
       "      <td>6.000000</td>\n",
       "    </tr>\n",
       "    <tr>\n",
       "      <th>mean</th>\n",
       "      <td>-0.365366</td>\n",
       "      <td>0.152727</td>\n",
       "      <td>0.203274</td>\n",
       "      <td>-0.478310</td>\n",
       "    </tr>\n",
       "    <tr>\n",
       "      <th>std</th>\n",
       "      <td>0.938069</td>\n",
       "      <td>0.608310</td>\n",
       "      <td>1.183959</td>\n",
       "      <td>1.880048</td>\n",
       "    </tr>\n",
       "    <tr>\n",
       "      <th>min</th>\n",
       "      <td>-1.755535</td>\n",
       "      <td>-0.500293</td>\n",
       "      <td>-1.118132</td>\n",
       "      <td>-2.563711</td>\n",
       "    </tr>\n",
       "    <tr>\n",
       "      <th>25%</th>\n",
       "      <td>-0.747485</td>\n",
       "      <td>-0.318091</td>\n",
       "      <td>-0.823764</td>\n",
       "      <td>-1.837346</td>\n",
       "    </tr>\n",
       "    <tr>\n",
       "      <th>50%</th>\n",
       "      <td>-0.354164</td>\n",
       "      <td>0.045195</td>\n",
       "      <td>0.224877</td>\n",
       "      <td>-0.779033</td>\n",
       "    </tr>\n",
       "    <tr>\n",
       "      <th>75%</th>\n",
       "      <td>-0.010163</td>\n",
       "      <td>0.556854</td>\n",
       "      <td>1.006687</td>\n",
       "      <td>0.557248</td>\n",
       "    </tr>\n",
       "    <tr>\n",
       "      <th>max</th>\n",
       "      <td>1.045755</td>\n",
       "      <td>1.038043</td>\n",
       "      <td>1.794045</td>\n",
       "      <td>2.439360</td>\n",
       "    </tr>\n",
       "  </tbody>\n",
       "</table>\n",
       "</div>"
      ],
      "text/plain": [
       "              A         B         C         D\n",
       "count  6.000000  6.000000  6.000000  6.000000\n",
       "mean  -0.365366  0.152727  0.203274 -0.478310\n",
       "std    0.938069  0.608310  1.183959  1.880048\n",
       "min   -1.755535 -0.500293 -1.118132 -2.563711\n",
       "25%   -0.747485 -0.318091 -0.823764 -1.837346\n",
       "50%   -0.354164  0.045195  0.224877 -0.779033\n",
       "75%   -0.010163  0.556854  1.006687  0.557248\n",
       "max    1.045755  1.038043  1.794045  2.439360"
      ]
     },
     "execution_count": 15,
     "metadata": {},
     "output_type": "execute_result"
    }
   ],
   "source": [
    "df.describe()"
   ]
  },
  {
   "cell_type": "code",
   "execution_count": 16,
   "id": "f27d777a-4373-4761-b252-dd6f92e675f0",
   "metadata": {},
   "outputs": [],
   "source": [
    "# Matplotlib\n",
    "# plotting library for python\n",
    "# used for data visualization\n",
    "\n",
    "# features\n",
    "# As usable as matlab with an advantage of being free and open source\n",
    "# Supports dozens of backends & output types\n",
    "# Pandas itself can be used as wrappers around matplotlib's API\n",
    "# Smaller memory cosumption & better runtime behaviour\n",
    "\n",
    "# Applications\n",
    "# Correlation analysis of variables\n",
    "# Visualize 95% confidence intervals of the models\n",
    "# Outlier detection\n",
    "# Visualising distributions to gain instant insights\n"
   ]
  },
  {
   "cell_type": "code",
   "execution_count": 17,
   "id": "9d518566-6088-4c1e-a47c-e904e86b02a6",
   "metadata": {},
   "outputs": [],
   "source": [
    "import numpy as np\n",
    "import matplotlib.pyplot as plt\n",
    "%matplotlib inline"
   ]
  },
  {
   "cell_type": "code",
   "execution_count": 18,
   "id": "a75377b7-ad7d-4bde-a431-03ab0075e0b1",
   "metadata": {},
   "outputs": [],
   "source": [
    "np.random.seed(10)"
   ]
  },
  {
   "cell_type": "code",
   "execution_count": 19,
   "id": "8f1adb8e-11be-4bde-ab72-35daab9c7731",
   "metadata": {},
   "outputs": [],
   "source": [
    "N = 30\n",
    "x = np.random.rand(N)\n",
    "y = np.random.rand(N)\n",
    "colors = np.random.rand(N)"
   ]
  },
  {
   "cell_type": "code",
   "execution_count": 20,
   "id": "696707ba-9048-4778-b03f-bc53fcba755d",
   "metadata": {},
   "outputs": [],
   "source": [
    "area = (30 * np.random.rand(N))**2"
   ]
  },
  {
   "cell_type": "code",
   "execution_count": 21,
   "id": "6cab2e26-ee74-4660-9d07-aef7751b055f",
   "metadata": {},
   "outputs": [
    {
     "data": {
      "image/png": "[encoded data removed]",
      "text/plain": [
       "<Figure size 640x480 with 1 Axes>"
      ]
     },
     "metadata": {},
     "output_type": "display_data"
    }
   ],
   "source": [
    "plt.scatter(x,y,s=area,c=colors,alpha=0.4)\n",
    "plt.show()"
   ]
  },
  {
   "cell_type": "code",
   "execution_count": 24,
   "id": "d048aed1-01e7-46b0-b611-1fcc4d377554",
   "metadata": {},
   "outputs": [],
   "source": [
    "from matplotlib import style\n",
    "style.use('ggplot')\n",
    "\n",
    "x = [2,4,6]\n",
    "y = [12,14,16]\n",
    "\n",
    "x2 = [3,3,4]\n",
    "y2 = [7,14,5]\n"
   ]
  },
  {
   "cell_type": "code",
   "execution_count": 27,
   "id": "b7b67e4e-2747-4a26-b4c3-359732f536b9",
   "metadata": {},
   "outputs": [
    {
     "data": {
      "image/png": "[encoded data removed]",
      "text/plain": [
       "<Figure size 640x480 with 1 Axes>"
      ]
     },
     "metadata": {},
     "output_type": "display_data"
    }
   ],
   "source": [
    "plt.bar(x,y,color = 'r',align= 'center')\n",
    "plt.bar(x2,y2,color = 'b',align= 'center')\n",
    "\n",
    "plt.title('Info')\n",
    "plt.ylabel('Y axis')\n",
    "plt.xlabel('X axis')\n",
    "plt.show()"
   ]
  },
  {
   "cell_type": "code",
   "execution_count": null,
   "id": "6ba0d9c9-8160-4bab-b213-d93be10d5de8",
   "metadata": {},
   "outputs": [],
   "source": []
  }
 ],
 "metadata": {
  "kernelspec": {
   "display_name": "Python 3 (ipykernel)",
   "language": "python",
   "name": "python3"
  },
  "language_info": {
   "codemirror_mode": {
    "name": "ipython",
    "version": 3
   },
   "file_extension": ".py",
   "mimetype": "text/x-python",
   "name": "python",
   "nbconvert_exporter": "python",
   "pygments_lexer": "ipython3",
   "version": "3.11.7"
  }
 },
 "nbformat": 4,
 "nbformat_minor": 5
}
