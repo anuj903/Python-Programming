{
 "cells": [
  {
   "cell_type": "markdown",
   "id": "b818711f-8186-4c0d-8f21-f0034454d492",
   "metadata": {},
   "source": [
    "# for loops"
   ]
  },
  {
   "cell_type": "code",
   "execution_count": null,
   "id": "08ba4cc5-0e8d-41ac-8234-8c085d6ebfd4",
   "metadata": {},
   "outputs": [],
   "source": [
    "# Author : Anuj Gaikwad\n",
    "# Date : 29/05/2024\n",
    "\n",
    "#syntax\n",
    "# for Counter in Sequence:\n",
    "#     Statements(s)"
   ]
  },
  {
   "cell_type": "code",
   "execution_count": 5,
   "id": "8f1c2934-bb2a-4a7b-9923-001852a13f86",
   "metadata": {},
   "outputs": [
    {
     "name": "stdout",
     "output_type": "stream",
     "text": [
      "1 4.2 nightcrawler\n"
     ]
    }
   ],
   "source": [
    "x = [1,4.2,\"nightcrawler\"]\n",
    "print(x[0],x[1],x[2])"
   ]
  },
  {
   "cell_type": "code",
   "execution_count": 11,
   "id": "d4e375a0-d9a8-4473-9e18-64c9860777b3",
   "metadata": {},
   "outputs": [
    {
     "name": "stdout",
     "output_type": "stream",
     "text": [
      "1\n",
      "4.2\n",
      "nightcrawler\n"
     ]
    }
   ],
   "source": [
    "# above code works but what if list had 100 elements? \n",
    "# thats why loops\n",
    "x = [1,4.2,\"nightcrawler\"]\n",
    "for i in x :\n",
    "    print(i)"
   ]
  },
  {
   "cell_type": "code",
   "execution_count": 19,
   "id": "c24fa2bb-6323-466e-88cc-194d246c391c",
   "metadata": {},
   "outputs": [
    {
     "name": "stdout",
     "output_type": "stream",
     "text": [
      "n i g h t c r a w l e r "
     ]
    }
   ],
   "source": [
    "# for loop on String\n",
    "x = \"nightcrawler\"\n",
    "for i in x:\n",
    "    print(i, end=\" \")"
   ]
  },
  {
   "cell_type": "code",
   "execution_count": 20,
   "id": "c9169506-ffcb-4006-bc15-2b5f3ed6dc58",
   "metadata": {},
   "outputs": [
    {
     "name": "stdout",
     "output_type": "stream",
     "text": [
      "0 1 2 3 4 5 6 7 8 9 10 11 12 13 14 15 16 17 18 19 20 "
     ]
    }
   ],
   "source": [
    "# to print a range of numbers\n",
    "for i in range(0,21):\n",
    "    print(i, end=\" \")"
   ]
  },
  {
   "cell_type": "code",
   "execution_count": 21,
   "id": "e136599d-0e31-45af-8f99-4b559b60020e",
   "metadata": {},
   "outputs": [
    {
     "name": "stdout",
     "output_type": "stream",
     "text": [
      "0 2 4 6 8 10 12 14 16 18 20 "
     ]
    }
   ],
   "source": [
    "# slicing the range by every 2nd number to print only even\n",
    "for i in range(0,21,2):\n",
    "    print(i, end=\" \")"
   ]
  },
  {
   "cell_type": "code",
   "execution_count": 23,
   "id": "9133502d-b1ec-477c-a7de-4657cc70e224",
   "metadata": {},
   "outputs": [
    {
     "name": "stdout",
     "output_type": "stream",
     "text": [
      "110\n"
     ]
    }
   ],
   "source": [
    "# sum of even numbers \n",
    "sum = 0\n",
    "for i in range(0,21):\n",
    "    if i % 2 == 0:\n",
    "        sum = sum + i\n",
    "print(sum)"
   ]
  },
  {
   "cell_type": "code",
   "execution_count": 17,
   "id": "dffa14da-db0b-4016-9d86-b14f3f9fe5f9",
   "metadata": {},
   "outputs": [],
   "source": [
    "#patterns"
   ]
  },
  {
   "cell_type": "code",
   "execution_count": 28,
   "id": "36835c69-8147-4b6d-b696-b8f2f8b95988",
   "metadata": {},
   "outputs": [
    {
     "name": "stdin",
     "output_type": "stream",
     "text": [
      "Enter a number 6\n"
     ]
    },
    {
     "name": "stdout",
     "output_type": "stream",
     "text": [
      "1 \n",
      "1 2 \n",
      "1 2 3 \n",
      "1 2 3 4 \n",
      "1 2 3 4 5 \n",
      "1 2 3 4 5 6 \n"
     ]
    }
   ],
   "source": [
    "n = int(input(\"Enter a number\"))\n",
    "for i in range(1,n+1):\n",
    "    for j in range (1,i+1):\n",
    "        print(j, end=\" \")\n",
    "    print()"
   ]
  },
  {
   "cell_type": "code",
   "execution_count": 31,
   "id": "146b1d98-06ec-41c6-90b3-8586ff1f618d",
   "metadata": {},
   "outputs": [
    {
     "name": "stdin",
     "output_type": "stream",
     "text": [
      "enter number of rows 2\n",
      "enter number of columns 2\n",
      "enter the 0 * 0 element- 1\n",
      "enter the 0 * 1 element- 2\n",
      "enter the 1 * 0 element- 3\n",
      "enter the 1 * 1 element- 4\n",
      "enter the 0 * 0 element- 1\n",
      "enter the 0 * 1 element- 2\n",
      "enter the 1 * 0 element- 3\n",
      "enter the 1 * 1 element- 4\n"
     ]
    },
    {
     "name": "stdout",
     "output_type": "stream",
     "text": [
      "[[2, 4], [6, 8]]\n"
     ]
    }
   ],
   "source": [
    "r = int(input(\"enter number of rows\"))\n",
    "c = int(input(\"enter number of columns\"))\n",
    "x = []\n",
    "val = []\n",
    "for i in range(0,r):\n",
    "    for j in range(0,c):\n",
    "        val.insert(j,int(input(\"enter the %d * %d element-\" %(i,j))))\n",
    "    x.insert(i,val) \n",
    "    val=[]\n",
    "y = []\n",
    "for i in range(0,r):\n",
    "    for j in range(0,c):\n",
    "        val.insert(j,int(input(\"enter the %d * %d element-\" %(i,j))))\n",
    "    y.insert(i,val) \n",
    "    val = []\n",
    "sum = []\n",
    "for i in range(0,r):\n",
    "    for j in range(0,c):\n",
    "        val.insert(j,x[i][j] +y[i][j])\n",
    "    sum.insert(i,val)\n",
    "    val=[]\n",
    "print(sum)      "
   ]
  },
  {
   "cell_type": "code",
   "execution_count": null,
   "id": "04a3817c-4fd9-4b67-a24c-0d15b447ae74",
   "metadata": {},
   "outputs": [],
   "source": []
  }
 ],
 "metadata": {
  "kernelspec": {
   "display_name": "Python 3 (ipykernel)",
   "language": "python",
   "name": "python3"
  },
  "language_info": {
   "codemirror_mode": {
    "name": "ipython",
    "version": 3
   },
   "file_extension": ".py",
   "mimetype": "text/x-python",
   "name": "python",
   "nbconvert_exporter": "python",
   "pygments_lexer": "ipython3",
   "version": "3.11.7"
  }
 },
 "nbformat": 4,
 "nbformat_minor": 5
}
