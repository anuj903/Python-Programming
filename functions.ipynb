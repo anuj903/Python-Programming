{
 "cells": [
  {
   "cell_type": "markdown",
   "id": "2dcb18fd-0601-4b0d-9564-d5d88adcff69",
   "metadata": {},
   "source": [
    "# functions"
   ]
  },
  {
   "cell_type": "code",
   "execution_count": null,
   "id": "2bca30ab-11b3-4b4d-a1ec-e590017d9c52",
   "metadata": {},
   "outputs": [],
   "source": [
    "# Author: Anuj Gaikwad\n",
    "# Date: 21/05/2024\n",
    "\n",
    "# A function is a set of code that performs some task\n",
    "# def function_name:\n",
    "#     statements(s)"
   ]
  },
  {
   "cell_type": "code",
   "execution_count": 2,
   "id": "803484eb-1823-4db0-976b-8a4eb58a1f3f",
   "metadata": {},
   "outputs": [],
   "source": [
    "def welcome():\n",
    "    print(\"good Morning\")"
   ]
  },
  {
   "cell_type": "code",
   "execution_count": 3,
   "id": "b0b54be0-e155-4244-8a67-2a0ffef65e6a",
   "metadata": {},
   "outputs": [
    {
     "name": "stdout",
     "output_type": "stream",
     "text": [
      "good Morning\n"
     ]
    }
   ],
   "source": [
    "welcome()"
   ]
  },
  {
   "cell_type": "code",
   "execution_count": 12,
   "id": "732c6430-4fd9-4fa1-9cd3-939ddeeb9874",
   "metadata": {},
   "outputs": [
    {
     "name": "stdout",
     "output_type": "stream",
     "text": [
      "the sum is  30\n",
      "the sum is  5\n"
     ]
    }
   ],
   "source": [
    "#passing values directly and via variables\n",
    "def add(a,b):\n",
    "    total = a + b\n",
    "    print(\"the sum is \",total)\n",
    "    \n",
    "add(10,20)\n",
    "\n",
    "x = 2\n",
    "y = 3\n",
    "add(x,y)"
   ]
  },
  {
   "cell_type": "code",
   "execution_count": 13,
   "id": "96c7242d-e652-4eef-9a97-0c7407aa91f3",
   "metadata": {},
   "outputs": [
    {
     "name": "stdout",
     "output_type": "stream",
     "text": [
      "the sum is  30\n"
     ]
    }
   ],
   "source": [
    "# interchanged parameters\n",
    "def add(b,a):\n",
    "    total = a + b\n",
    "    print(\"the sum is \",total)\n",
    "    \n",
    "add(a= 10,b =20)"
   ]
  },
  {
   "cell_type": "code",
   "execution_count": 14,
   "id": "b94779f8-6576-48e7-b419-aa2805549da3",
   "metadata": {},
   "outputs": [
    {
     "name": "stdout",
     "output_type": "stream",
     "text": [
      "the sum is  10\n"
     ]
    }
   ],
   "source": [
    "# only one value is passed then default value is set to zero\n",
    "def add(a=0,b=0):\n",
    "    total = a + b\n",
    "    print(\"the sum is \",total)\n",
    "    \n",
    "add(10)"
   ]
  },
  {
   "cell_type": "code",
   "execution_count": 16,
   "id": "cdaf71e7-7337-4c84-8553-e4b5c5330d4a",
   "metadata": {},
   "outputs": [
    {
     "name": "stdout",
     "output_type": "stream",
     "text": [
      "the sum is  60\n"
     ]
    }
   ],
   "source": [
    "#sum of list\n",
    "def add(*a):\n",
    "    total = 0\n",
    "    for i in a:\n",
    "        total = total + i\n",
    "    print(\"the sum is \",total)\n",
    "add(10,20,30)"
   ]
  },
  {
   "cell_type": "code",
   "execution_count": 18,
   "id": "ae3d34ae-8c4c-47a7-b88f-f69925d6a6cd",
   "metadata": {},
   "outputs": [
    {
     "name": "stdout",
     "output_type": "stream",
     "text": [
      "140735468979272 140735468979592\n",
      "140735468979272 140735468979592\n",
      "140735468979016 140735468979048\n",
      "the sum is  5\n",
      "the sum is 30\n"
     ]
    }
   ],
   "source": [
    "def add(a,b):\n",
    "    print(id(a),id(b))\n",
    "    a = 2\n",
    "    b = 3\n",
    "    print(id(a),id(b))\n",
    "    total = a + b\n",
    "    print(\"the sum is \",total)\n",
    "\n",
    "x = 10 \n",
    "y = 20\n",
    "print(id(x),id(y))\n",
    "add(x,y)\n",
    "print(\"the sum is\",x+y)"
   ]
  },
  {
   "cell_type": "code",
   "execution_count": 20,
   "id": "e1f9d421-0694-4522-84a8-0d0b2aced843",
   "metadata": {},
   "outputs": [
    {
     "name": "stdout",
     "output_type": "stream",
     "text": [
      "[0, 1, 2]\n",
      "[0, 1, 0]\n"
     ]
    }
   ],
   "source": [
    "def add(lst):\n",
    "    lst[2] = 0\n",
    "\n",
    "lst = [0,1,2]\n",
    "print(lst)\n",
    "add(lst)\n",
    "print(lst)"
   ]
  },
  {
   "cell_type": "code",
   "execution_count": 21,
   "id": "7bf4f773-0d4b-4ae1-bf77-1e51d7f8fbd1",
   "metadata": {},
   "outputs": [
    {
     "name": "stdout",
     "output_type": "stream",
     "text": [
      "the sum is  30\n"
     ]
    }
   ],
   "source": [
    "def add(a,b):\n",
    "    total = a + b\n",
    "    return total\n",
    "    \n",
    "result = add(10,20)\n",
    "print(\"the sum is \",result)"
   ]
  },
  {
   "cell_type": "code",
   "execution_count": null,
   "id": "7aae670c-e429-4018-abcf-b46752bf11a9",
   "metadata": {},
   "outputs": [],
   "source": []
  }
 ],
 "metadata": {
  "kernelspec": {
   "display_name": "Python 3 (ipykernel)",
   "language": "python",
   "name": "python3"
  },
  "language_info": {
   "codemirror_mode": {
    "name": "ipython",
    "version": 3
   },
   "file_extension": ".py",
   "mimetype": "text/x-python",
   "name": "python",
   "nbconvert_exporter": "python",
   "pygments_lexer": "ipython3",
   "version": "3.11.7"
  }
 },
 "nbformat": 4,
 "nbformat_minor": 5
}
