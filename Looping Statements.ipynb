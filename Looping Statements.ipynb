{
 "cells": [
  {
   "cell_type": "markdown",
   "id": "0c453e25-429b-4905-a94b-faa5fa36386d",
   "metadata": {},
   "source": [
    "# looping Statements"
   ]
  },
  {
   "cell_type": "code",
   "execution_count": 2,
   "id": "6e7aa3a6-cc77-416a-adca-a887cf15abfd",
   "metadata": {},
   "outputs": [],
   "source": [
    "# Author : Anuj Gaikwad\n",
    "# Date : 21/05/2024\n",
    "\n",
    "# loop is an instruction that repeats multiple times as long as condition is met"
   ]
  },
  {
   "cell_type": "code",
   "execution_count": 10,
   "id": "acb16aeb-6c40-4d43-b829-6324653555ef",
   "metadata": {},
   "outputs": [],
   "source": [
    "#while loop\n",
    "#the while loop is used to repeat a section of code and unknown number of times until a specific condition is met\n"
   ]
  },
  {
   "cell_type": "code",
   "execution_count": 9,
   "id": "e2add29c-a8e2-4404-89a5-f672d7675b99",
   "metadata": {},
   "outputs": [
    {
     "name": "stdin",
     "output_type": "stream",
     "text": [
      "Enter a multiple of 7 5\n",
      "Enter a multiple of 7 8\n",
      "Enter a multiple of 7 6\n",
      "Enter a multiple of 7 21\n"
     ]
    },
    {
     "name": "stdout",
     "output_type": "stream",
     "text": [
      "21 is multiple of 7\n"
     ]
    }
   ],
   "source": [
    "var = int(input(\"Enter a multiple of 7\"))\n",
    "while var % 7 != 0:\n",
    "    var = int(input(\"Enter a multiple of 7\"))\n",
    "else:\n",
    "    print(\"%d is multiple of 7\" %var)"
   ]
  },
  {
   "cell_type": "code",
   "execution_count": 13,
   "id": "1f409154-af67-4d6d-9b9a-4699743cec07",
   "metadata": {},
   "outputs": [],
   "source": [
    "#for loop\n",
    "#for loop is used to iterate over a sequence, which could be a list, tuple, array or a string\n"
   ]
  },
  {
   "cell_type": "code",
   "execution_count": 14,
   "id": "a2515bec-7ed6-4ece-bd68-8e0420d2b4b9",
   "metadata": {},
   "outputs": [
    {
     "name": "stdout",
     "output_type": "stream",
     "text": [
      "1\n",
      "6\n",
      "Skywalker\n"
     ]
    }
   ],
   "source": [
    "x = [1,6,\"Skywalker\"]\n",
    "for i in x:\n",
    "    print(i)"
   ]
  },
  {
   "cell_type": "code",
   "execution_count": 15,
   "id": "75439824-fd9b-4db9-9974-aa22f0f9fa5a",
   "metadata": {},
   "outputs": [
    {
     "name": "stdout",
     "output_type": "stream",
     "text": [
      "S\n",
      "k\n",
      "y\n",
      "w\n",
      "a\n",
      "l\n",
      "k\n",
      "e\n",
      "r\n"
     ]
    }
   ],
   "source": [
    "x = \"Skywalker\"\n",
    "for i in x:\n",
    "    print(i)"
   ]
  },
  {
   "cell_type": "code",
   "execution_count": 18,
   "id": "0f7b992d-4401-4814-91e9-a45d19b70033",
   "metadata": {},
   "outputs": [],
   "source": [
    "#nested loop\n",
    "\n",
    "#for in for\n",
    "#while in while\n",
    "#for in while\n",
    "#while in for"
   ]
  },
  {
   "cell_type": "code",
   "execution_count": 22,
   "id": "683f901e-c9ba-4789-a24e-bfded6a28c23",
   "metadata": {},
   "outputs": [
    {
     "name": "stdout",
     "output_type": "stream",
     "text": [
      "1 2 3 \n",
      "a b c \n"
     ]
    }
   ],
   "source": [
    "#matix\n",
    "x = [[1,2,3],['a','b','c']]\n",
    "for i in x:\n",
    "    for j in i:\n",
    "        print(j,end =\" \")\n",
    "    print()"
   ]
  },
  {
   "cell_type": "code",
   "execution_count": 24,
   "id": "f5cd9403-b7f0-4940-b131-9aac4512ea70",
   "metadata": {},
   "outputs": [],
   "source": [
    "#loop Control Statements\n",
    "#break - break the loop - come out of loop\n",
    "#continue - skip that condition - move on to next iteration"
   ]
  },
  {
   "cell_type": "code",
   "execution_count": 28,
   "id": "dd49eded-4dd0-42bf-a5a3-7e3e5521dad0",
   "metadata": {},
   "outputs": [
    {
     "name": "stdout",
     "output_type": "stream",
     "text": [
      "hey there"
     ]
    }
   ],
   "source": [
    "x = \"hey there, how you doing?\"\n",
    "for i in x:\n",
    "    if i == \",\":\n",
    "        break\n",
    "    print(i, end=\"\")"
   ]
  },
  {
   "cell_type": "code",
   "execution_count": 29,
   "id": "08f74dcf-139a-4d0b-8ef0-e6016e24b99d",
   "metadata": {},
   "outputs": [
    {
     "name": "stdout",
     "output_type": "stream",
     "text": [
      "1\n",
      "4\n",
      "6\n"
     ]
    }
   ],
   "source": [
    "for i in [1,13,56,4,6]:\n",
    "    if i>10:\n",
    "        continue\n",
    "    print(i)"
   ]
  },
  {
   "cell_type": "code",
   "execution_count": null,
   "id": "13d7499a-77ae-4a97-a5dc-f79dc5ebc3fb",
   "metadata": {},
   "outputs": [],
   "source": []
  }
 ],
 "metadata": {
  "kernelspec": {
   "display_name": "Python 3 (ipykernel)",
   "language": "python",
   "name": "python3"
  },
  "language_info": {
   "codemirror_mode": {
    "name": "ipython",
    "version": 3
   },
   "file_extension": ".py",
   "mimetype": "text/x-python",
   "name": "python",
   "nbconvert_exporter": "python",
   "pygments_lexer": "ipython3",
   "version": "3.11.7"
  }
 },
 "nbformat": 4,
 "nbformat_minor": 5
}
