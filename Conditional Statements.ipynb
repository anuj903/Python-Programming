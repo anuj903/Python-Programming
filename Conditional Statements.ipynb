{
 "cells": [
  {
   "cell_type": "markdown",
   "id": "5c097341-4ed6-4f43-8ee5-beeaf3efee63",
   "metadata": {},
   "source": [
    "# Conditional Statements"
   ]
  },
  {
   "cell_type": "code",
   "execution_count": null,
   "id": "9366873d-10e6-4c40-8c2b-0ead4df506f1",
   "metadata": {},
   "outputs": [],
   "source": [
    "# Author : Anuj Gaikwad\n",
    "# Date : 21/05/2024\n",
    "\n",
    "# if statement"
   ]
  },
  {
   "cell_type": "code",
   "execution_count": 2,
   "id": "b5287a8c-dfe6-47d6-b9a0-eb03ac814238",
   "metadata": {},
   "outputs": [
    {
     "name": "stdout",
     "output_type": "stream",
     "text": [
      "this is out of if block\n"
     ]
    }
   ],
   "source": [
    "a = 20\n",
    "if a > 50:\n",
    "    print(\"this is if body\")\n",
    "print(\"this is out of if block\")"
   ]
  },
  {
   "cell_type": "code",
   "execution_count": 3,
   "id": "ecd36247-6336-4808-a8af-b2ac28a220a0",
   "metadata": {},
   "outputs": [
    {
     "name": "stdout",
     "output_type": "stream",
     "text": [
      "this is if body\n",
      "this is out of if block\n"
     ]
    }
   ],
   "source": [
    "a = 60\n",
    "if a > 50:\n",
    "    print(\"this is if body\")\n",
    "print(\"this is out of if block\")"
   ]
  },
  {
   "cell_type": "code",
   "execution_count": 5,
   "id": "66d7902d-e98e-4778-92d2-87b118db7262",
   "metadata": {},
   "outputs": [],
   "source": [
    "# if Else statement"
   ]
  },
  {
   "cell_type": "code",
   "execution_count": 6,
   "id": "b47ad809-030e-430f-8bfa-4f2d8e3c97d0",
   "metadata": {},
   "outputs": [
    {
     "name": "stdout",
     "output_type": "stream",
     "text": [
      "this is if body\n"
     ]
    }
   ],
   "source": [
    "a = 60\n",
    "if a > 50:\n",
    "    print(\"this is if body\")\n",
    "else:\n",
    "    print(\"this is else block\")\n",
    "    \n"
   ]
  },
  {
   "cell_type": "code",
   "execution_count": 7,
   "id": "2102e278-58ec-4647-bf8d-f43e82555710",
   "metadata": {},
   "outputs": [
    {
     "name": "stdout",
     "output_type": "stream",
     "text": [
      "this is else block\n"
     ]
    }
   ],
   "source": [
    "a = 20\n",
    "if a > 50:\n",
    "    print(\"this is if body\")\n",
    "else:\n",
    "    print(\"this is else block\")"
   ]
  },
  {
   "cell_type": "code",
   "execution_count": 8,
   "id": "3e4e1030-d9a6-432d-91bb-1ec2bf6de1fb",
   "metadata": {},
   "outputs": [
    {
     "name": "stdout",
     "output_type": "stream",
     "text": [
      "i is even number\n"
     ]
    }
   ],
   "source": [
    "i = 20 \n",
    "if i %2 == 0:\n",
    "    print(\"i is even number\")\n",
    "else:\n",
    "    print(\"i is odd number\")\n",
    "    "
   ]
  },
  {
   "cell_type": "code",
   "execution_count": 9,
   "id": "f429b6a6-a085-4ad0-8ec1-4885b9ebc777",
   "metadata": {},
   "outputs": [
    {
     "name": "stdout",
     "output_type": "stream",
     "text": [
      "i is odd number\n"
     ]
    }
   ],
   "source": [
    "i = 21 \n",
    "if i %2 == 0:\n",
    "    print(\"i is even number\")\n",
    "else:\n",
    "    print(\"i is odd number\")\n",
    "    "
   ]
  },
  {
   "cell_type": "code",
   "execution_count": 10,
   "id": "f0b55221-5a6a-4832-b235-8c10ffae37a4",
   "metadata": {},
   "outputs": [],
   "source": [
    "#nested if Statement"
   ]
  },
  {
   "cell_type": "code",
   "execution_count": 11,
   "id": "ae5c69fa-a11f-40f4-b725-f652d7d23fe6",
   "metadata": {},
   "outputs": [
    {
     "name": "stdout",
     "output_type": "stream",
     "text": [
      "m is odd number less than 100\n"
     ]
    }
   ],
   "source": [
    "m = 51\n",
    "if m < 100:\n",
    "    if m%2==0:\n",
    "        print(\"m is even number less than 100\")\n",
    "    else:\n",
    "        print(\"m is odd number less than 100\")\n",
    "else:\n",
    "    print(\"m is greater than 100\")"
   ]
  },
  {
   "cell_type": "code",
   "execution_count": 12,
   "id": "b5c4c974-1cad-4ff9-88bc-bf23c3ef3ef8",
   "metadata": {},
   "outputs": [],
   "source": [
    "# if elif else statement"
   ]
  },
  {
   "cell_type": "code",
   "execution_count": 15,
   "id": "5debfcfe-d9cf-4b16-be28-ca15c95d5b6e",
   "metadata": {},
   "outputs": [
    {
     "name": "stdout",
     "output_type": "stream",
     "text": [
      "this is a vowel e\n"
     ]
    }
   ],
   "source": [
    "var = 'e'\n",
    "if var =='a':\n",
    "    print(\"this is a vowel a\")\n",
    "elif var =='e':\n",
    "    print(\"this is a vowel e\")\n",
    "elif var =='i':\n",
    "    print(\"this is a vowel i\")\n",
    "elif var =='o':\n",
    "    print(\"this is a vowel o\")\n",
    "elif var =='u':\n",
    "    print(\"this is a vowel u\")\n",
    "else:\n",
    "    print(\"this is a consonant\")"
   ]
  },
  {
   "cell_type": "code",
   "execution_count": null,
   "id": "15740b1e-fbd7-42bd-b954-598b2398851c",
   "metadata": {},
   "outputs": [],
   "source": []
  }
 ],
 "metadata": {
  "kernelspec": {
   "display_name": "Python 3 (ipykernel)",
   "language": "python",
   "name": "python3"
  },
  "language_info": {
   "codemirror_mode": {
    "name": "ipython",
    "version": 3
   },
   "file_extension": ".py",
   "mimetype": "text/x-python",
   "name": "python",
   "nbconvert_exporter": "python",
   "pygments_lexer": "ipython3",
   "version": "3.11.7"
  }
 },
 "nbformat": 4,
 "nbformat_minor": 5
}
