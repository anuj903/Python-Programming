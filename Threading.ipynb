{
 "cells": [
  {
   "cell_type": "markdown",
   "id": "88092698-e9e9-47ea-816c-661f95024b79",
   "metadata": {},
   "source": [
    "# Threading in python"
   ]
  },
  {
   "cell_type": "code",
   "execution_count": 2,
   "id": "3ca6ac09-0c23-45c2-a182-a1aee7052058",
   "metadata": {},
   "outputs": [],
   "source": [
    "# Author: Anuj Gaikwad\n",
    "# Date: 23/05/2024\n",
    "\n",
    "# A proces is an executable instace of computer progaram\n",
    "# A thread exists within a process\n",
    "# A thread is a squence of instruction in a program that can be\n",
    "# executed independently of the remaining program"
   ]
  },
  {
   "cell_type": "code",
   "execution_count": 2,
   "id": "1397c384-076f-4a2b-8eed-3dd60a965ddb",
   "metadata": {},
   "outputs": [
    {
     "name": "stdout",
     "output_type": "stream",
     "text": [
      "this is child thread\n",
      "this is parent thread\n"
     ]
    }
   ],
   "source": [
    "from threading import *\n",
    "def show():\n",
    "    print(\"this is child thread\")\n",
    "t = Thread(target = show())\n",
    "t.start()\n",
    "print(\"this is parent thread\")"
   ]
  },
  {
   "cell_type": "code",
   "execution_count": 3,
   "id": "79dc932e-2445-4e27-8f51-9921e72f7916",
   "metadata": {},
   "outputs": [
    {
     "name": "stdout",
     "output_type": "stream",
     "text": [
      "this is child thread\n",
      "this is main thread\n",
      "\n",
      "this is main thread\n",
      "\n",
      "this is main thread\n",
      "\n",
      "this is main thread\n",
      "\n",
      "this is main thread\n",
      "\n",
      "this is child thread\n",
      "this is child thread\n",
      "this is child thread\n",
      "this is child thread\n"
     ]
    }
   ],
   "source": [
    "from threading import *\n",
    "class MyThread(Thread):\n",
    "    def run(self):\n",
    "        for i in range(5):\n",
    "            print(\"this is child thread\")\n",
    "t = MyThread()\n",
    "t.start()\n",
    "for i in range(5):\n",
    "    print(\"\\nthis is main thread\")"
   ]
  },
  {
   "cell_type": "code",
   "execution_count": 5,
   "id": "c178fdf0-07b9-4d32-9bc9-c78966296efe",
   "metadata": {},
   "outputs": [
    {
     "name": "stdout",
     "output_type": "stream",
     "text": [
      "this is the child thread\n",
      "this is the child thread\n",
      "this is the child thread\n",
      "this is the child thread\n",
      "this is the child thread\n",
      "this is the parent thread\n",
      "this is the parent thread\n",
      "this is the parent thread\n",
      "this is the parent thread\n",
      "this is the parent thread\n"
     ]
    }
   ],
   "source": [
    "class Demo:\n",
    "    def show(self):\n",
    "        for i in range(5):\n",
    "            print(\"this is the child thread\")\n",
    "obj = Demo()\n",
    "t = Thread(target=obj.show())\n",
    "t.start()\n",
    "for i in range(5):\n",
    "    print(\"this is the parent thread\")\n",
    "    \n",
    "    \n",
    "        "
   ]
  },
  {
   "cell_type": "code",
   "execution_count": 7,
   "id": "dc02a223-c417-4ce8-a86b-d7fba07d10b8",
   "metadata": {},
   "outputs": [],
   "source": [
    "# Context Switching\n",
    "# Storing the state of a process or thread and resuming its execution\n",
    "# at a later time is called context switching\n",
    "\n",
    "# Multithreading \n",
    "# A model where multiple threads within a precess execute independently\n",
    "# while sharing the same resources is called multithreading"
   ]
  },
  {
   "cell_type": "code",
   "execution_count": 12,
   "id": "4df14181-aac7-45cd-b14a-c823cc184346",
   "metadata": {},
   "outputs": [
    {
     "name": "stdout",
     "output_type": "stream",
     "text": [
      "the number is 1\n",
      "the number is 2\n",
      "the number is 3\n",
      "the number is 4\n",
      "the number is 5\n",
      "the double of the number is 2\n",
      "the double of the number is 4\n",
      "the double of the number is 6\n",
      "the double of the number is 8\n",
      "the double of the number is 10\n",
      "the square of the number is 1\n",
      "the square of the number is 4\n",
      "the square of the number is 9\n",
      "the square of the number is 16\n",
      "the square of the number is 25\n",
      "this is the main thread\n"
     ]
    }
   ],
   "source": [
    "from threading import *\n",
    "class Demo:\n",
    "    def num(self):\n",
    "        for i in range(1,6):\n",
    "            print(\"the number is\",i)\n",
    "    def double(self):\n",
    "        for i in range(1,6):\n",
    "            print(\"the double of the number is\",2*i)\n",
    "    def square(self):\n",
    "        for i in range(1,6):\n",
    "            print(\"the square of the number is\",i*i)\n",
    "obj=Demo()\n",
    "t1 = Thread(target=obj.num)\n",
    "t2 = Thread(target=obj.double)\n",
    "t3 = Thread(target=obj.square)\n",
    "\n",
    "t1.start()\n",
    "t2.start()\n",
    "t3.start()\n",
    "\n",
    "t1.join()\n",
    "t2.join()\n",
    "t3.join()\n",
    "\n",
    "print(\"this is the main thread\")"
   ]
  },
  {
   "cell_type": "code",
   "execution_count": 16,
   "id": "b9aecd00-1759-45aa-82b9-ac5bdaf83ec8",
   "metadata": {},
   "outputs": [
    {
     "name": "stdout",
     "output_type": "stream",
     "text": [
      "\n",
      "the number is 1\n",
      "the double of the number is 2\n",
      "the square of the number is 1\n",
      "\n",
      "the number is 2\n",
      "the double of the number is 4\n",
      "the square of the number is 4\n",
      "\n",
      "the number is 3\n",
      "the double of the number is 6\n",
      "the square of the number is 9\n",
      "\n",
      "the number is 4\n",
      "the double of the number is 8\n",
      "the square of the number is 16\n",
      "\n",
      "the number is 5\n",
      "the double of the number is 10\n",
      "the square of the number is 25\n",
      "this is the main thread\n"
     ]
    }
   ],
   "source": [
    "from threading import *\n",
    "import time\n",
    "class Demo:\n",
    "    def num(self):\n",
    "        for i in range(1,6):\n",
    "            print()\n",
    "            print(\"the number is\",i)\n",
    "            time.sleep(1)\n",
    "    def double(self):\n",
    "        for i in range(1,6):\n",
    "            print(\"the double of the number is\",2*i)\n",
    "            time.sleep(1)\n",
    "    def square(self):\n",
    "        for i in range(1,6):\n",
    "            print(\"the square of the number is\",i*i)\n",
    "            time.sleep(1)\n",
    "obj=Demo()\n",
    "t1 = Thread(target=obj.num)\n",
    "t2 = Thread(target=obj.double)\n",
    "t3 = Thread(target=obj.square)\n",
    "\n",
    "t1.start()\n",
    "time.sleep(0.2)\n",
    "t2.start()\n",
    "time.sleep(0.2)\n",
    "t3.start()\n",
    "time.sleep(0.2)\n",
    "\n",
    "t1.join()\n",
    "t2.join()\n",
    "t3.join()\n",
    "\n",
    "print(\"this is the main thread\")"
   ]
  },
  {
   "cell_type": "code",
   "execution_count": null,
   "id": "870a7e44-22b1-4017-9458-94155810d6ea",
   "metadata": {},
   "outputs": [],
   "source": []
  }
 ],
 "metadata": {
  "kernelspec": {
   "display_name": "Python 3 (ipykernel)",
   "language": "python",
   "name": "python3"
  },
  "language_info": {
   "codemirror_mode": {
    "name": "ipython",
    "version": 3
   },
   "file_extension": ".py",
   "mimetype": "text/x-python",
   "name": "python",
   "nbconvert_exporter": "python",
   "pygments_lexer": "ipython3",
   "version": "3.11.7"
  }
 },
 "nbformat": 4,
 "nbformat_minor": 5
}
