{
 "cells": [
  {
   "cell_type": "markdown",
   "id": "dd59adbc-3f65-4a7a-9a10-ed29bd361581",
   "metadata": {},
   "source": [
    "# objects and Classes"
   ]
  },
  {
   "cell_type": "code",
   "execution_count": 1,
   "id": "b12f5569-22d4-4781-b334-ce5c53284d63",
   "metadata": {},
   "outputs": [],
   "source": [
    "# Author: Anuj Gaikwad\n",
    "# Date: 21/05/2024"
   ]
  },
  {
   "cell_type": "code",
   "execution_count": 3,
   "id": "6630c6ca-df39-49ee-97eb-78c3a307480e",
   "metadata": {},
   "outputs": [
    {
     "name": "stdout",
     "output_type": "stream",
     "text": [
      "hi i'm sam\n",
      "i am eligible to vote\n"
     ]
    }
   ],
   "source": [
    "class person:\n",
    "\n",
    "    def __init__(self):\n",
    "        self.name=\"sam\"\n",
    "        self.gender=\"male\"\n",
    "        self.age = 22\n",
    "\n",
    "    def talk(self):\n",
    "        print(\"hi i'm\",self.name)\n",
    "    def vote(self):\n",
    "        if self.age<18:\n",
    "            print(\"i am not eligible to vote\")\n",
    "        else:\n",
    "            print(\"i am eligible to vote\")\n",
    "obj = person()\n",
    "person.talk(obj)\n",
    "person.vote(obj)"
   ]
  },
  {
   "cell_type": "code",
   "execution_count": 4,
   "id": "b7ca0cc6-6d77-4949-9bb9-b156a8addd3e",
   "metadata": {},
   "outputs": [
    {
     "name": "stdout",
     "output_type": "stream",
     "text": [
      "hi i'm sam\n",
      "i am eligible to vote\n"
     ]
    }
   ],
   "source": [
    "class person:\n",
    "\n",
    "    def __init__(self):\n",
    "        self.name=\"sam\"\n",
    "        self.gender=\"male\"\n",
    "        self.age = 22\n",
    "\n",
    "    def talk(self):\n",
    "        print(\"hi i'm\",self.name)\n",
    "    def vote(self):\n",
    "        if self.age<18:\n",
    "            print(\"i am not eligible to vote\")\n",
    "        else:\n",
    "            print(\"i am eligible to vote\")\n",
    "obj = person()\n",
    "obj.talk()\n",
    "obj.vote()"
   ]
  },
  {
   "cell_type": "code",
   "execution_count": 6,
   "id": "7a83911d-acea-4735-b71f-513b20e06501",
   "metadata": {},
   "outputs": [
    {
     "name": "stdout",
     "output_type": "stream",
     "text": [
      "hi i'm walter\n",
      "i am eligible to vote\n",
      "hi i'm jessy\n",
      "i am not eligible to vote\n"
     ]
    }
   ],
   "source": [
    "class person:\n",
    "\n",
    "    def __init__(self,n,g,a):\n",
    "        self.name = n\n",
    "        self.gender = g\n",
    "        self.age = a\n",
    "\n",
    "    def talk(self):\n",
    "        print(\"hi i'm\",self.name)\n",
    "    def vote(self):\n",
    "        if self.age<18:\n",
    "            print(\"i am not eligible to vote\")\n",
    "        else:\n",
    "            print(\"i am eligible to vote\")\n",
    "obj1 = person(\"walter\",\"male\",51)\n",
    "obj2 = person(\"jessy\",\"male\",17)\n",
    "obj1.talk()\n",
    "obj1.vote()\n",
    "obj2.talk()\n",
    "obj2.vote()"
   ]
  },
  {
   "cell_type": "code",
   "execution_count": 9,
   "id": "2a1b569e-3e4b-4b29-9ff7-f8a58929b8a7",
   "metadata": {},
   "outputs": [],
   "source": [
    "# OOPS \n",
    "# object oriented programming\n",
    "# Every instance in Python is an object\n",
    "# object - attribute, behaviour\n",
    "# class collection of similar objects"
   ]
  },
  {
   "cell_type": "code",
   "execution_count": 17,
   "id": "944f2ef1-ed33-4eb9-97a0-f3c3d1c17bc7",
   "metadata": {},
   "outputs": [
    {
     "name": "stdout",
     "output_type": "stream",
     "text": [
      "maximum speed is:  180\n",
      "maximum speed is:  150\n"
     ]
    }
   ],
   "source": [
    "class car:\n",
    "    def __init__(self,year,speed):\n",
    "        self.year = year\n",
    "        self.speed = speed\n",
    "    def getSpeed(self):\n",
    "        print(\"maximum speed is: \",self.speed)\n",
    "BMW = car(2018,180)\n",
    "FORD = car(2016,150)\n",
    "\n",
    "BMW.getSpeed()\n",
    "FORD.getSpeed()"
   ]
  },
  {
   "cell_type": "code",
   "execution_count": 22,
   "id": "e748bdf8-3224-4ea6-aa53-2d0b3ff3c134",
   "metadata": {},
   "outputs": [
    {
     "name": "stdout",
     "output_type": "stream",
     "text": [
      "maximum speed is:  155\n",
      "maximum speed is:  143\n",
      "maximum speed is:  150\n"
     ]
    }
   ],
   "source": [
    "class car:\n",
    "    def __init__(self,year,speed):\n",
    "        self.year = year\n",
    "        self.speed = speed\n",
    "    def getSpeed(self):\n",
    "        print(\"maximum speed is: \",self.speed)\n",
    "    def setSpeed(self,speed):\n",
    "        self.speed = speed\n",
    "BMW = car(2018,155)\n",
    "FORD = car(2016,150)\n",
    "\n",
    "BMW.getSpeed()\n",
    "BMW.setSpeed(143)\n",
    "BMW.getSpeed()\n",
    "\n",
    "FORD.getSpeed()"
   ]
  },
  {
   "cell_type": "code",
   "execution_count": 25,
   "id": "b3c228e8-df7a-4b68-ae1d-be6ce18deb9f",
   "metadata": {},
   "outputs": [],
   "source": [
    "# INHERITANCE\n",
    "# Inheritance is a mechanism for a new class to use \n",
    "# the features of another class"
   ]
  },
  {
   "cell_type": "code",
   "execution_count": 31,
   "id": "bf177834-41f5-4595-afb8-1ef941d0f413",
   "metadata": {},
   "outputs": [
    {
     "name": "stdout",
     "output_type": "stream",
     "text": [
      "maximum speed is:  155\n",
      "maximum speed is:  150\n",
      "trunk has been opened\n",
      "137\n"
     ]
    }
   ],
   "source": [
    "class car:\n",
    "    def __init__(self,year,speed):\n",
    "        self.year = year\n",
    "        self.speed = speed\n",
    "    def getSpeed(self):\n",
    "        print(\"maximum speed is: \",self.speed)\n",
    "    def setSpeed(self,speed):\n",
    "        self.speed = speed\n",
    "BMW = car(2018,155)\n",
    "FORD = car(2016,150)\n",
    "\n",
    "class Sedan(car): # child class\n",
    "    def accelarate(self):\n",
    "        print('137')\n",
    "    def openTrunk(self):\n",
    "        print('trunk has been opened')\n",
    "class SUV(car): # child class\n",
    "    def accelarate(self):\n",
    "        print('127')\n",
    "Honda = Sedan(2018,150)\n",
    "BMW.getSpeed()\n",
    "Honda.getSpeed()\n",
    "Honda.openTrunk()\n",
    "Honda.accelarate()"
   ]
  },
  {
   "cell_type": "code",
   "execution_count": 32,
   "id": "d8244c98-9efc-4e56-b219-dda63e265f84",
   "metadata": {},
   "outputs": [],
   "source": [
    "# ENCAPSULATION\n",
    "# The feature of preventing data from direct access is called\n",
    "# ENCAPSULATION"
   ]
  },
  {
   "cell_type": "code",
   "execution_count": 33,
   "id": "1983966a-77b3-436b-84f2-3413c8c2a0c9",
   "metadata": {},
   "outputs": [],
   "source": [
    "# POLYMORPHISM\n",
    "# Using same function in multiple Ways "
   ]
  },
  {
   "cell_type": "code",
   "execution_count": null,
   "id": "bc2be52b-b612-4d41-b7cd-506e576dbb13",
   "metadata": {},
   "outputs": [],
   "source": []
  }
 ],
 "metadata": {
  "kernelspec": {
   "display_name": "Python 3 (ipykernel)",
   "language": "python",
   "name": "python3"
  },
  "language_info": {
   "codemirror_mode": {
    "name": "ipython",
    "version": 3
   },
   "file_extension": ".py",
   "mimetype": "text/x-python",
   "name": "python",
   "nbconvert_exporter": "python",
   "pygments_lexer": "ipython3",
   "version": "3.11.7"
  }
 },
 "nbformat": 4,
 "nbformat_minor": 5
}
